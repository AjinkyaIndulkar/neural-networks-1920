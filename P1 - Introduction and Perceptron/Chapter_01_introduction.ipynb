{
 "cells": [
  {
   "cell_type": "markdown",
   "metadata": {
    "colab_type": "text",
    "id": "5eQCaF1xoXFm"
   },
   "source": [
    "##### Author contributions\n",
    "Please fill out for each of the following parts who contributed to what:\n",
    "- Conceived ideas: Ajinkya, Miriam, Peter, Nienke\n",
    "- Performed math exercises: Miriam, Peter, Nienke, Ajinkya\n",
    "- Performed programming exercises: Peter, Nienke, Ajinkya, Miriam\n",
    "- Contributed to the overall final assignment: Nienke, Ajinkya, Miriam, Peter"
   ]
  },
  {
   "cell_type": "markdown",
   "metadata": {
    "colab_type": "text",
    "id": "yjTpWiRdoXFx"
   },
   "source": [
    "# Chapter 1\n",
    "## Introduction\n",
    "\n",
    "    Hand-in bug-free (try \"Kernel\" > \"Restart & Run All\") and including all (textual as well as figural) output via Brightspace before the deadline (see Brightspace).\n",
    "    \n",
    "Learning goals:\n",
    "1. Get familiar with jupyter notebooks\n",
    "2. Brush up basics of vectors and matrices\n",
    "3. Get familiar with python\n",
    "4. Get familiar with activation functions"
   ]
  },
  {
   "cell_type": "code",
   "execution_count": 1,
   "metadata": {
    "colab": {},
    "colab_type": "code",
    "id": "yrhtvJskoXF4"
   },
   "outputs": [],
   "source": [
    "import matplotlib.pyplot as plt\n",
    "import numpy as np"
   ]
  },
  {
   "cell_type": "markdown",
   "metadata": {
    "colab_type": "text",
    "id": "m96vl3Xu9wVT"
   },
   "source": [
    "### Notes\n",
    "\n",
    "For exercises 1-5 you are required to write down derivations explicitly in $\\LaTeX$. Thus, you do not need to write any Python code, but you might find calculating the exercises with Python useful for practice. We denote such exercises with \"$\\LaTeX$ here.\"\n",
    "\n",
    "For exercises 6-8, you do have to write Python code. We denote these with \"## Code here ##\". Make sure that your plots are shown *in* the notebook when we open it; which you can achieve by saving the notebook when all plots are open and handing in this version. \n",
    "\n",
    "As mentioned in the course reader, in every assignment we will check whether your notebook code runs through without errors with the Cell->Run All command. You risk loosing many points if this fails. We will not debug your code. Be sure to restart the notebook kernel from time to time (Kernel->Restart) and before submitting to notice it if you use old variable or function names that are still defined in the notebook kernel, but not anymore in the code. \n",
    "\n",
    "A useful reference for linear algebra is [**The Matrix Cookbook**](http://www2.imm.dtu.dk/pubdb/views/publication_details.php?id=3274). A good overview for partial derivatives is [Khan Academy: Partial Derivatives](https://www.khanacademy.org/math/multivariable-calculus/multivariable-derivatives/partial-derivatives-and-the-gradient/a/introduction-to-partial-derivatives)."
   ]
  },
  {
   "cell_type": "markdown",
   "metadata": {
    "colab_type": "text",
    "collapsed": true,
    "id": "npBUaZP4oXGS"
   },
   "source": [
    "### Exercise 1: Vector operations (1 point)\n",
    "Let's look at vectors. Work out this assignment by hand and write down your solution in markdown.\n",
    "\n",
    "Let $\\mathbf{x} = (1,2)^T$ and $\\mathbf{y} = (-1,1)^T$\n",
    "\n",
    "1. How much is $10\\mathbf{x}$?\n",
    "1. What is the length (norm) of the vector $\\mathbf{x}$? Briefly show how to calculate the solution. \n",
    "1. How much is $\\mathbf{x}^T\\mathbf{y}$?\n",
    "1. What is the angle between $\\mathbf{x}$ and $\\mathbf{y}$ in degrees? Briefly show how to calculate the solution. "
   ]
  },
  {
   "cell_type": "markdown",
   "metadata": {
    "colab_type": "text",
    "id": "n9uRPU0UoXGZ"
   },
   "source": [
    "### Solution 1\n",
    "1. $ 10 \\mathbf{x} = 10 * (1,2)^T = (10,20)^T $\n",
    "\n",
    "1. $ |x| = \\sqrt{1^2 + 2^2} = \\sqrt{5} $\n",
    "\n",
    "1. $ x^Ty = (1,2) \\cdot (-1,1)^T = 1 $\n",
    "1. $ \\cos\\theta = \\frac{xy}{|x||y|} = \\frac{1}{\\sqrt{5}\\sqrt{2}} = \\frac{1}{\\sqrt{10}} $\n",
    "\n",
    "  $ \\theta = \\cos^{-1}{\\frac{1}{\\sqrt{10}}} = 72 ^{\\circ} $"
   ]
  },
  {
   "cell_type": "markdown",
   "metadata": {
    "colab_type": "text",
    "id": "X0-FoEgeoXGe"
   },
   "source": [
    "### Exercise 2: Vectors and matrices (1 point)\n",
    "Let's look at vectors and matrices. Work out this assignment by hand and write down your solution in markdown. \n",
    "\n",
    "Let $\\mathbf{x} = (1,2)^T$ and $\\mathbf{A} = \n",
    "\\left(\n",
    "\\begin{array}{cc}\n",
    "1 & 2 \\\\\n",
    "3 & 4\n",
    "\\end{array}\n",
    "\\right)\n",
    "$.\n",
    "\n",
    "1. Can we compute $\\mathbf{x}\\mathbf{A}$? Why can, or why can't we?\n",
    "1. How much is $\\mathbf{A}\\mathbf{x}$?"
   ]
  },
  {
   "cell_type": "markdown",
   "metadata": {
    "colab_type": "text",
    "id": "UwZbUNk4oXGh"
   },
   "source": [
    "### Solution 2\n",
    "1. **xA** is not computable, because the inner dimensions of **x** (1) and **A** (2) do not match.\n",
    "1. $ Ax = \\bigl(\\begin{smallmatrix}\n",
    "1 & 2\\\\ \n",
    "3 & 4\n",
    "\\end{smallmatrix}\\bigr) (1,2)^T = (5,11)^T $"
   ]
  },
  {
   "cell_type": "markdown",
   "metadata": {
    "colab_type": "text",
    "id": "dqrQ9-cJoXGm"
   },
   "source": [
    "### Exercise 3: Matrices (1 point)\n",
    "Let's look at matrices. Work out this assignment by hand and write down your solution in markdown. \n",
    "\n",
    "Let $\\mathbf{A} = \n",
    "\\left(\n",
    "\\begin{array}{cc}\n",
    "1 & 2 \\\\\n",
    "3 & 4\n",
    "\\end{array}\n",
    "\\right)\n",
    "$ and $\\mathbf{B} = \n",
    "\\left(\n",
    "\\begin{array}{cc}\n",
    "5 & 6 \\\\\n",
    "7 & 8\n",
    "\\end{array}\n",
    "\\right)\n",
    "$.\n",
    "\n",
    "1. How much is $AB$?\n",
    "1. How much is $BA$?"
   ]
  },
  {
   "cell_type": "markdown",
   "metadata": {
    "colab_type": "text",
    "id": "KqRoH4hEoXGr"
   },
   "source": [
    "### Solution 3\n",
    "1. $ AB = \\bigl(\\begin{smallmatrix}\n",
    "1 & 2\\\\ \n",
    "3 & 4\n",
    "\\end{smallmatrix}\\bigr) \\bigl(\\begin{smallmatrix}\n",
    "5 & 6\\\\ \n",
    "7 & 8\n",
    "\\end{smallmatrix}\\bigr) = \\bigl(\\begin{smallmatrix}\n",
    "19 & 22\\\\ \n",
    "43 & 50\n",
    "\\end{smallmatrix}\\bigr) $\n",
    "\n",
    "\n",
    "1. $ BA = \\bigl(\\begin{smallmatrix}\n",
    "5 & 6\\\\ \n",
    "7 & 8\n",
    "\\end{smallmatrix}\\bigr) \\bigl(\\begin{smallmatrix}\n",
    "1 & 2\\\\ \n",
    "3 & 4\n",
    "\\end{smallmatrix}\\bigr) = \\bigl(\\begin{smallmatrix}\n",
    "23 & 34\\\\ \n",
    "31 & 46\n",
    "\\end{smallmatrix}\\bigr) $"
   ]
  },
  {
   "cell_type": "markdown",
   "metadata": {
    "colab_type": "text",
    "id": "YaCDaLQ5oXGw"
   },
   "source": [
    "### Exercise 4: Partial derivatives (1 point)\n",
    "\n",
    "Let's brush up on partial derivatives. \n",
    "\n",
    "Let $\\mathbf{x} = (x_1,\\ldots,x_i,\\ldots,x_n)^T$ (a vector) and $f(\\mathbf{x}) = \\mathbf{x}^T\\mathbf{x}$. Write down the expression for the partial derivative $\\frac{\\partial f}{\\partial x_i}$. Briefly explain how you arrived at the result. For the mathematicions, all $x_i$ are i.i.d.\n",
    "\n",
    "Hint: How would the function $f(\\mathbf{x})$ look like if it was written with the vector scalars $x_i$ instead of the vector $\\mathbf{x}$?"
   ]
  },
  {
   "cell_type": "markdown",
   "metadata": {
    "colab_type": "text",
    "id": "D6PFHIcOoXG1"
   },
   "source": [
    "### Solution 4\n",
    "$f(\\mathbf{x})= \\sum_{k=1}^{n} x_{k}^{2} $\n",
    "\n",
    "So when taking the partial derivative with respect to $x_{i}$, all the other $x_j$, $j\\not= i$ become constant and can thus be ignored when calculating the derivation. \n",
    "\n",
    "So:\n",
    "$\\frac{\\partial f}{\\partial x_i} = 2x_{i}$"
   ]
  },
  {
   "cell_type": "markdown",
   "metadata": {
    "colab_type": "text",
    "id": "cf2UCct_oXG5"
   },
   "source": [
    "### Exercise 5: Gradients (1 point)\n",
    "Often, we need to compute the gradient of a particular function. Given a function $f(x_1,\\ldots,x_n)$, the gradient is just a collection of partial derivatives:\n",
    "\\begin{equation*}\n",
    "\\nabla f = \\left(\\frac{\\partial f}{\\partial x_1}, \\ldots,\\frac{\\partial f}{\\partial x_n}\\right) \\,.\n",
    "\\end{equation*}\n",
    "\n",
    "Let $f(x,y) = - (\\cos^2 x + \\cos^2 y)^2$. \n",
    "\n",
    "Derive the gradient $\\nabla f = \\left(\\frac{\\partial f}{\\partial x},\\frac{\\partial f}{\\partial y}\\right)$."
   ]
  },
  {
   "cell_type": "markdown",
   "metadata": {
    "colab_type": "text",
    "id": "iVQLiMMgoXG9"
   },
   "source": [
    "### Solution 5\n",
    "$f(x,y) = - (\\cos^2 x + \\cos^2 y)^2 = -(\\cos^4 x + \\cos^4 y + 2\\cos^2 x \\cos^2 y) = -\\cos^4 x - \\cos^4 y - 2\\cos^2 x\\cos^2 y $\n",
    "\n",
    "$\\frac{\\partial f}{\\partial x} = -4\\cos^3 x \\cdot -\\sin x - 2\\cos^2 y \\cdot 2\\cos x \\cdot -\\sin x = 4\\cos^3 x\\sin x + 4\\cos^2 y\\cos x\\sin x$\n",
    "\n",
    "$\\frac{\\partial f}{\\partial y} = -4\\cos^3 y \\cdot -\\sin y - 2\\cos^2 x \\cdot 2\\cos y \\cdot -\\sin y = 4\\cos^3 y\\sin y + 4\\cos^2 x\\cos y\\sin y$\n",
    "\n",
    "$\\nabla f = \\left(\\frac{\\partial f}{\\partial x},\\frac{\\partial f}{\\partial y}\\right) = \\left(4\\cos^3 x\\sin x + 4\\cos^2 y\\cos x\\sin x,4\\cos^3 y\\sin y + 4\\cos^2 x\\cos y\\sin y\\right)$"
   ]
  },
  {
   "cell_type": "markdown",
   "metadata": {
    "colab_type": "text",
    "id": "hWc0Eh0OoXHC"
   },
   "source": [
    "### Exercise 6: Linear activation function (1 point)\n",
    "Define a python function that computes the *linear activation function* (trivial identity) for any given input. Plot it over the input range $x \\in [-10,10]$, and don't forget to add sensible labels to the axes. \n",
    "\n",
    "Hint: use `np.arange()` with a sensible stepsize"
   ]
  },
  {
   "cell_type": "markdown",
   "metadata": {
    "colab_type": "text",
    "id": "4gdhrmDsoXHF"
   },
   "source": [
    "### Solution 6"
   ]
  },
  {
   "cell_type": "code",
   "execution_count": 2,
   "metadata": {
    "colab": {
     "base_uri": "https://localhost:8080/",
     "height": 295
    },
    "colab_type": "code",
    "executionInfo": {
     "elapsed": 1019,
     "status": "ok",
     "timestamp": 1581671459905,
     "user": {
      "displayName": "Yeeey Blabla",
      "photoUrl": "",
      "userId": "04091945302964756892"
     },
     "user_tz": -60
    },
    "id": "M4x1dSeRoXHI",
    "outputId": "fa46a227-a381-427a-ffc3-a27fb4ec8282"
   },
   "outputs": [
    {
     "data": {
      "image/png": "[encoded data removed]",
      "text/plain": [
       "<Figure size 432x288 with 1 Axes>"
      ]
     },
     "metadata": {
      "needs_background": "light"
     },
     "output_type": "display_data"
    }
   ],
   "source": [
    "# Linear activation function: \n",
    "def lin_act(x):\n",
    "  return x\n",
    "\n",
    "# Plot activation over given range:\n",
    "X = np.arange(-10,10.1,0.1)\n",
    "Y = lin_act(X)\n",
    "plt.plot(X,Y)\n",
    "plt.title(\"Linear activation function\")\n",
    "plt.xlabel(\"Value\")\n",
    "plt.ylabel(\"Result of activation function\")\n",
    "plt.grid(True)\n",
    "plt.show()"
   ]
  },
  {
   "cell_type": "markdown",
   "metadata": {
    "colab_type": "text",
    "id": "n3qjNjOBoXHS"
   },
   "source": [
    "### Exercise 7: Linear threshold activation function (1 point)\n",
    "Define a python function that computes the *linear threshold activation function* (also known as step activation function) for any given input. This activation function has a parameter $\\theta$, which you can, by default, set to $\\theta=0$. Plot it over the input range $x \\in [-10,10]$, and don't forget to add sensible labels to the axes. \n",
    "\n",
    "Hint: use `np.arange()` with a sensible stepsize"
   ]
  },
  {
   "cell_type": "markdown",
   "metadata": {
    "colab_type": "text",
    "id": "1rIU7ntOoXHX"
   },
   "source": [
    "### Solution 7"
   ]
  },
  {
   "cell_type": "code",
   "execution_count": 3,
   "metadata": {
    "colab": {
     "base_uri": "https://localhost:8080/",
     "height": 295
    },
    "colab_type": "code",
    "executionInfo": {
     "elapsed": 1467,
     "status": "ok",
     "timestamp": 1581671460368,
     "user": {
      "displayName": "Yeeey Blabla",
      "photoUrl": "",
      "userId": "04091945302964756892"
     },
     "user_tz": -60
    },
    "id": "FV-0X8bDoXHe",
    "outputId": "8875db7b-38a2-4a8f-dc8b-cb50659ce9b9"
   },
   "outputs": [
    {
     "data": {
      "image/png": "[encoded data removed]",
      "text/plain": [
       "<Figure size 432x288 with 1 Axes>"
      ]
     },
     "metadata": {
      "needs_background": "light"
     },
     "output_type": "display_data"
    }
   ],
   "source": [
    "# Linear threshold activation function: \n",
    "def lin_threshold_act(x, theta=0):\n",
    "    if x<theta:\n",
    "      return 0\n",
    "    else: \n",
    "      return 1\n",
    "\n",
    "# Plot activation over given range: \n",
    "X = np.arange(-10,10.1,0.1)\n",
    "Y = []\n",
    "for x in X:\n",
    "  Y.append(lin_threshold_act(x))\n",
    "plt.plot(X,Y)\n",
    "plt.title(\"Linear threshold activation function\")\n",
    "plt.xlabel(\"Value\")\n",
    "plt.ylabel(\"Result of activation function\")\n",
    "plt.grid(True)\n",
    "plt.show()"
   ]
  },
  {
   "cell_type": "markdown",
   "metadata": {
    "colab_type": "text",
    "id": "4L36sHJWoXHq"
   },
   "source": [
    "### Exercise 8: Sigmoid activation function (1 point)\n",
    "Define a python function that computes the *sigmoid activation function* for any given input. Plot it over the input range $x \\in [-10,10]$, and don't forget to add sensible labels to the axes. \n",
    "\n",
    "Hint: use `np.arange()` with a sensible stepsize"
   ]
  },
  {
   "cell_type": "markdown",
   "metadata": {
    "colab_type": "text",
    "id": "V5o5d1CmoXHu"
   },
   "source": [
    "### Solution 8"
   ]
  },
  {
   "cell_type": "code",
   "execution_count": 4,
   "metadata": {
    "colab": {
     "base_uri": "https://localhost:8080/",
     "height": 295
    },
    "colab_type": "code",
    "executionInfo": {
     "elapsed": 1459,
     "status": "ok",
     "timestamp": 1581671460374,
     "user": {
      "displayName": "Yeeey Blabla",
      "photoUrl": "",
      "userId": "04091945302964756892"
     },
     "user_tz": -60
    },
    "id": "JJLL79M0oXHz",
    "outputId": "36a9b30e-1dfe-4630-8364-ce0415c0df94"
   },
   "outputs": [
    {
     "data": {
      "image/png": "[encoded data removed]",
      "text/plain": [
       "<Figure size 432x288 with 1 Axes>"
      ]
     },
     "metadata": {
      "needs_background": "light"
     },
     "output_type": "display_data"
    }
   ],
   "source": [
    "import math\n",
    "# Linear sigmoid activation function: \n",
    "def sigmoid(x):\n",
    "  return 1 / (1 + math.exp(-x))\n",
    "\n",
    "# Plot activation over given range: \n",
    "X = np.arange(-10,10.1,0.1)\n",
    "Y = []\n",
    "for x in X:\n",
    "  Y.append(sigmoid(x))\n",
    "plt.plot(X,Y)\n",
    "plt.title(\"Linear threshold activation function\")\n",
    "plt.xlabel(\"Value\")\n",
    "plt.ylabel(\"Result of activation function\")\n",
    "plt.grid(True)\n",
    "plt.show()"
   ]
  },
  {
   "cell_type": "markdown",
   "metadata": {
    "colab_type": "text",
    "id": "cERUcsJkoXH8"
   },
   "source": [
    "### Exercise 9 (1 point)\n",
    "\n",
    "**1.** The input of the activation function in a simple perceptron (or any regular neural network neuron) is calculated as a weighted sum between each input value $x_i$ and each corresponding weight $w_i$, that is: $\\sum_{i=1}^m w_i x_i $.\n",
    "\n",
    "Calculate the input of the activation function for the given input values ```x_inputs``` and weight values ```weights``` **in a for-loop**. "
   ]
  },
  {
   "cell_type": "markdown",
   "metadata": {
    "colab_type": "text",
    "collapsed": true,
    "id": "jvN7EqqooXH_"
   },
   "source": [
    "### Solution 9.1"
   ]
  },
  {
   "cell_type": "code",
   "execution_count": 5,
   "metadata": {
    "colab": {
     "base_uri": "https://localhost:8080/",
     "height": 72
    },
    "colab_type": "code",
    "executionInfo": {
     "elapsed": 1449,
     "status": "ok",
     "timestamp": 1581671460376,
     "user": {
      "displayName": "Yeeey Blabla",
      "photoUrl": "",
      "userId": "04091945302964756892"
     },
     "user_tz": -60
    },
    "id": "39pSaOwEoXIE",
    "outputId": "f6159bef-4fec-4baf-bc2c-6bf25dce516f"
   },
   "outputs": [
    {
     "name": "stdout",
     "output_type": "stream",
     "text": [
      "Shape of inputs: (3,).\n",
      "Shape of weights: (3,).\n",
      "The input of the activation function is: 4.0.\n"
     ]
    }
   ],
   "source": [
    "x_inputs = np.array([4.0,2.0,3.0])\n",
    "weights  = np.array([0.7,0.3,0.2])\n",
    "\n",
    "print(\"Shape of inputs: {}.\".format(x_inputs.shape))\n",
    "print(\"Shape of weights: {}.\".format(weights.shape))\n",
    "\n",
    "activation_input = 0.0\n",
    "\n",
    "# Write a for-loop\n",
    "for i in range(0, len(weights)):\n",
    "  activation_input += weights[i]*x_inputs[i]\n",
    "\n",
    "print(\"The input of the activation function is: {}.\".format(activation_input))"
   ]
  },
  {
   "cell_type": "markdown",
   "metadata": {
    "colab_type": "text",
    "id": "pW5qp_lgoXIQ"
   },
   "source": [
    "**2.** For-loops tend to be slow. There is a direct mathematical operation that expresses the same as our weighted sum above. This operation is also efficiently implemented as a ```numpy``` function. \n",
    "\n",
    "How is the operation called? Use the corresponding ```numpy``` function **once** to calculate ```activation_input``` in one line without any for-loop. (this also excludes list comprehensions)\n",
    "\n",
    "Hint: $\\sum_{i=1}^m w_i x_i = \\mathbf{w}^\\top \\mathbf{x}$ \n",
    "\n",
    "Note: this one operation is the prefered operation over using for loops, so use it in all upcoming assignments!"
   ]
  },
  {
   "cell_type": "markdown",
   "metadata": {
    "colab_type": "text",
    "id": "VK3j3oALoXIT"
   },
   "source": [
    "### Solution 9.2"
   ]
  },
  {
   "cell_type": "code",
   "execution_count": 6,
   "metadata": {
    "colab": {
     "base_uri": "https://localhost:8080/",
     "height": 72
    },
    "colab_type": "code",
    "executionInfo": {
     "elapsed": 1440,
     "status": "ok",
     "timestamp": 1581671460379,
     "user": {
      "displayName": "Yeeey Blabla",
      "photoUrl": "",
      "userId": "04091945302964756892"
     },
     "user_tz": -60
    },
    "id": "bC96EJT1oXIX",
    "outputId": "c51d19ae-f5fe-4ff8-ad84-8c3665475303"
   },
   "outputs": [
    {
     "name": "stdout",
     "output_type": "stream",
     "text": [
      "Shape of inputs: (3,).\n",
      "Shape of weights: (3,).\n",
      "The input of the activation function is: 4.0.\n"
     ]
    }
   ],
   "source": [
    "x_inputs = np.array([4.0,2.0,3.0])\n",
    "weights  = np.array([0.7,0.3,0.2])\n",
    "\n",
    "print(\"Shape of inputs: {}.\".format(x_inputs.shape))\n",
    "print(\"Shape of weights: {}.\".format(weights.shape))\n",
    "\n",
    "# Write a one-liner\n",
    "activation_input = np.dot(weights.T, x_inputs)\n",
    "\n",
    "print(\"The input of the activation function is: {}.\".format(activation_input))"
   ]
  },
  {
   "cell_type": "markdown",
   "metadata": {
    "colab_type": "text",
    "id": "p0vwKg-yoXIj"
   },
   "source": [
    "### Exercise 10 (1 point)"
   ]
  },
  {
   "cell_type": "markdown",
   "metadata": {
    "colab_type": "text",
    "id": "E8BWv2I8oXIm"
   },
   "source": [
    "**1.** When implementing a full neural network we will have multiple $h_n$ hidden units (think $h_n$ individual perceptrons). In a multi-layer perceptron (a simple fully connected neural network), every hidden unit $h_i$ is connected to all of the $m$ input units, leading to $m \\times h_n$ weights in total. Again, first implement this with for-loops only, and with none of numpy's special mathematical functions. In the example below `weights` represents the weights for 4 hidden units. "
   ]
  },
  {
   "cell_type": "markdown",
   "metadata": {
    "colab_type": "text",
    "id": "Yxgmvl50oXIr"
   },
   "source": [
    "### Solution 10.1"
   ]
  },
  {
   "cell_type": "code",
   "execution_count": 7,
   "metadata": {
    "colab": {
     "base_uri": "https://localhost:8080/",
     "height": 72
    },
    "colab_type": "code",
    "executionInfo": {
     "elapsed": 1704,
     "status": "ok",
     "timestamp": 1581671460654,
     "user": {
      "displayName": "Yeeey Blabla",
      "photoUrl": "",
      "userId": "04091945302964756892"
     },
     "user_tz": -60
    },
    "id": "YVY7R9wMoXIu",
    "outputId": "ae834563-1c36-45c3-a3de-ccb67e4e9e69"
   },
   "outputs": [
    {
     "name": "stdout",
     "output_type": "stream",
     "text": [
      "Shape of inputs: (3,).\n",
      "Shape of weights: (4, 3).\n",
      "The inputs of the activation functions for the hidden units are: [ 4.   -0.38 -9.4   0.98].\n"
     ]
    }
   ],
   "source": [
    "x_inputs = np.array([4.0,2.0,3.0])\n",
    "weights  = np.array([[0.7,0.3,0.2], \n",
    "                     [-0.23,0.42,-0.1], \n",
    "                     [-1.5,-2.3,0.4], \n",
    "                     [0.83,-0.12,-0.7]])\n",
    "\n",
    "print(\"Shape of inputs: {}.\".format(x_inputs.shape))\n",
    "print(\"Shape of weights: {}.\".format(weights.shape))\n",
    "\n",
    "activation_inputs = np.zeros([weights.shape[0],])\n",
    "\n",
    "# Write a for-loop\n",
    "for i in range(0, len(activation_inputs)):\n",
    "  for j in range(0, len(x_inputs)):\n",
    "    activation_inputs[i] += x_inputs[j]*weights[i][j]\n",
    "\n",
    "\n",
    "print(\"The inputs of the activation functions for the hidden units are: {}.\".format(activation_inputs))"
   ]
  },
  {
   "cell_type": "markdown",
   "metadata": {
    "colab_type": "text",
    "id": "CxmqkNghoXI4"
   },
   "source": [
    "**2.** Now implement the same with the operation you found before. You should only use this function once and should not use *any* for loops.  This also excludes list comprehensions. \n",
    "\n",
    "Note: this one operation is the prefered operation over using for loops, so use it in all upcoming assignments!"
   ]
  },
  {
   "cell_type": "markdown",
   "metadata": {
    "colab_type": "text",
    "id": "G_IvaFG6oXI7"
   },
   "source": [
    "### Solution 10.2"
   ]
  },
  {
   "cell_type": "code",
   "execution_count": 8,
   "metadata": {
    "colab": {
     "base_uri": "https://localhost:8080/",
     "height": 72
    },
    "colab_type": "code",
    "executionInfo": {
     "elapsed": 1694,
     "status": "ok",
     "timestamp": 1581671460656,
     "user": {
      "displayName": "Yeeey Blabla",
      "photoUrl": "",
      "userId": "04091945302964756892"
     },
     "user_tz": -60
    },
    "id": "AyjlVDshoXJB",
    "outputId": "56ae2daa-0888-4d32-fe17-9d571d5b4972"
   },
   "outputs": [
    {
     "name": "stdout",
     "output_type": "stream",
     "text": [
      "Shape of inputs: (3,).\n",
      "Shape of weights: (4, 3).\n",
      "The inputs of the activation functions for the hidden units are: [ 4.   -0.38 -9.4   0.98].\n"
     ]
    }
   ],
   "source": [
    "x_inputs = np.array([4.0,2.0,3.0])\n",
    "weights  = np.array([[0.7,0.3,0.2], \n",
    "                     [-0.23,0.42,-0.1], \n",
    "                     [-1.5,-2.3,0.4], \n",
    "                     [0.83,-0.12,-0.7]])\n",
    "\n",
    "print(\"Shape of inputs: {}.\".format(x_inputs.shape))\n",
    "print(\"Shape of weights: {}.\".format(weights.shape))\n",
    "\n",
    "activation_inputs = np.zeros([weights.shape[0],])\n",
    "\n",
    "# Write a one-liner\n",
    "activation_inputs = np.dot(weights, x_inputs)\n",
    "\n",
    "print(\"The inputs of the activation functions for the hidden units are: {}.\".format(activation_inputs))"
   ]
  },
  {
   "cell_type": "markdown",
   "metadata": {
    "colab_type": "text",
    "id": "7Zpi-F9IoXJK"
   },
   "source": [
    "**3.** Usually you would process multiple examples at once (*in a batch*), generating a unit activation individually for every example. `x_inputs` now carries two examples. Now - using only the one-line operation you found before one time - again gather the activations. You should not use *any* for-loops. This also excludes list comprehensions. \n",
    "\n",
    "Note: this one operation is the prefered operation over using for loops, so use it in all upcoming assignments!"
   ]
  },
  {
   "cell_type": "markdown",
   "metadata": {
    "colab_type": "text",
    "id": "J6kblDyOoXJM"
   },
   "source": [
    "### Solution 10.3"
   ]
  },
  {
   "cell_type": "code",
   "execution_count": 9,
   "metadata": {
    "colab": {
     "base_uri": "https://localhost:8080/",
     "height": 90
    },
    "colab_type": "code",
    "executionInfo": {
     "elapsed": 1686,
     "status": "ok",
     "timestamp": 1581671460659,
     "user": {
      "displayName": "Yeeey Blabla",
      "photoUrl": "",
      "userId": "04091945302964756892"
     },
     "user_tz": -60
    },
    "id": "VeAuN6tYoXJP",
    "outputId": "c29c30de-c82d-496e-b806-1d27e48ec45e"
   },
   "outputs": [
    {
     "name": "stdout",
     "output_type": "stream",
     "text": [
      "Shape of inputs: (2, 3).\n",
      "Shape of weights: (4, 3).\n",
      "The 2 sets of inputs of the activation functions for the hidden units are: [[ 4.   -0.38 -9.4   0.98]\n",
      " [ 3.05 -0.88 -4.05 -0.37]].\n"
     ]
    }
   ],
   "source": [
    "x_inputs = np.array([[4.0,2.0,3.0], \n",
    "                     [3.0,0.5,4.0]])\n",
    "\n",
    "weights  = np.array([[0.7,0.3,0.2], \n",
    "                     [-0.23,0.42,-0.1], \n",
    "                     [-1.5,-2.3,0.4], \n",
    "                     [0.83,-0.12,-0.7]])\n",
    "\n",
    "print(\"Shape of inputs: {}.\".format(x_inputs.shape))\n",
    "print(\"Shape of weights: {}.\".format(weights.shape))\n",
    "\n",
    "activation_inputs = np.zeros([weights.shape[0], 2])\n",
    "\n",
    "# Write a one-liner\n",
    "activation_inputs = np.dot(x_inputs, weights.T)\n",
    "\n",
    "print(\"The 2 sets of inputs of the activation functions for the hidden units are: {}.\".format(activation_inputs))"
   ]
  }
 ],
 "metadata": {
  "accelerator": "GPU",
  "anaconda-cloud": {},
  "colab": {
   "collapsed_sections": [],
   "name": "Chapter_01_introduction.ipynb",
   "provenance": []
  },
  "kernelspec": {
   "display_name": "Python 3",
   "language": "python",
   "name": "python3"
  },
  "language_info": {
   "codemirror_mode": {
    "name": "ipython",
    "version": 3
   },
   "file_extension": ".py",
   "mimetype": "text/x-python",
   "name": "python",
   "nbconvert_exporter": "python",
   "pygments_lexer": "ipython3",
   "version": "3.7.6"
  }
 },
 "nbformat": 4,
 "nbformat_minor": 1
}
