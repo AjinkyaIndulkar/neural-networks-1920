{
 "cells": [
  {
   "cell_type": "markdown",
   "metadata": {},
   "source": [
    "##### Author contributions\n",
    "Please fill out for each of the following parts who contributed to what:\n",
    "- Conceived ideas: everyone\n",
    "- Performed math exercises: everyone\n",
    "- Performed programming exercises: everyone\n",
    "- Contributed to the overall final assignment: everyone"
   ]
  },
  {
   "cell_type": "markdown",
   "metadata": {},
   "source": [
    "# Chapter 8\n",
    "## Hopfield networks\n",
    "\n",
    "    Hand-in bug-free (try \"Kernel\" > \"Restart & Run All\") and including all (textual as well as figural) output via Brightspace before the deadline (see Brightspace).\n",
    "\n",
    "Learning goals:\n",
    "1. Get familiar with energy functions and with updating Hopfield networks by hand\n",
    "1. Implement a Hopfield network that fulfills a constraint\n",
    "1. Implement, train and test a Hopfield network on images"
   ]
  },
  {
   "cell_type": "code",
   "execution_count": 1,
   "metadata": {},
   "outputs": [],
   "source": [
    "# import libraries\n",
    "import urllib\n",
    "import numpy as np\n",
    "\n",
    "import skimage as ski\n",
    "import skimage.transform\n",
    "\n",
    "import matplotlib.pyplot as plt\n",
    "import matplotlib.image as mpimg\n",
    "\n",
    "%matplotlib inline\n",
    "\n",
    "# set random seed\n",
    "np.random.seed(43)"
   ]
  },
  {
   "cell_type": "markdown",
   "metadata": {},
   "source": [
    "### Exercise 1: Flip-flop  (2 points)\n",
    "Consider a Hopfield network consisting of two binary variables $x_1$ and $x_2$ with biases $\\theta_1 = 0.5$ and $\\theta_2 = 0.5$, and weights $w_{ij} = -1$. This network implements a so-called flip-flop. \n",
    "1. What is the energy function of this network? *(Write down the standard form of $E(\\mathbf{x})$, insert the values and simplify it.)*\n",
    "1. What are the possible energy levels of this network? *(Given the possible state combinations for $x_1$ and $x_2$ in a Hopfield network, which values can $E(\\mathbf{x})$ have?)*\n",
    "1. What are the stable states of this network?"
   ]
  },
  {
   "cell_type": "markdown",
   "metadata": {},
   "source": [
    "### Solution 1\n",
    "\\begin{equation*}\n",
    "W = \\begin{pmatrix}\n",
    "0 & -1\\\\\n",
    "-1 & 0\n",
    "\\end{pmatrix}\n",
    "\\end{equation*}\n",
    "\n",
    "1.\n",
    "\n",
    "$E(\\mathbf{x}) = -\\dfrac{1}{2} \\cdot \\mathbf{x}^T \\cdot W \\cdot \\mathbf{x} - \\mathbf{x}^T \\cdot \\mathbf{\\theta}       $\n",
    "\n",
    "$E(\\mathbf{x}) = -\\dfrac{1}{2} \\cdot ( -1 \\cdot x_1 \\cdot x_2 + -1 \\cdot x_2 \\cdot x_1 ) - \\mathbf{x}^T \\cdot \\mathbf{\\theta}       $\n",
    "\n",
    "$E(\\mathbf{x}) = -\\dfrac{1}{2} \\cdot -2 \\cdot x_1 \\cdot x_2  - \\mathbf{x}^T \\cdot \\mathbf{\\theta}      $\n",
    "\n",
    "$E(\\mathbf{x}) = x_1 \\cdot x_2  - \\mathbf{x}^T \\cdot \\mathbf{\\theta}      $\n",
    "\n",
    "$E(\\mathbf{x}) = x_1 \\cdot x_2  - (x_1 \\cdot 0.5 + x_2 \\cdot 0.5)      $\n",
    "\n",
    "\n",
    "\n",
    "2.\n",
    "\n",
    "$\\mathbf{x} = (0, 0)$, $E(\\mathbf{x}) = 0$\n",
    "\n",
    "$\\mathbf{x} = (0, 1)$, $E(\\mathbf{x}) = -0.5$\n",
    "\n",
    "$\\mathbf{x} = (1, 0)$, $E(\\mathbf{x}) = -0.5$\n",
    "\n",
    "$\\mathbf{x} = (1, 1)$, $E(\\mathbf{x}) = 0$\n",
    "\n",
    "\n",
    "\n",
    "\n",
    "3.\n",
    "\n",
    "$\\mathbf{x} = (0, 1)$\n",
    "\n",
    "$\\mathbf{x} = (1, 0)$\n"
   ]
  },
  {
   "cell_type": "markdown",
   "metadata": {},
   "source": [
    "### Exercise 2: Hopfield net\n",
    "Consider a Hopfield network with weights\n",
    "\\begin{equation}\n",
    "\\mathbf{W} =\n",
    "\\left[\n",
    "\\begin{array}{llll}\n",
    "0 & -0.2 & -0.4 & 0\\\\\n",
    "-0.2 & 0 & 0.5 & 0.3\\\\\n",
    "-0.4 & 0.5 & 0 & 0.8\\\\\n",
    "0 & 0.3 & 0.8 & 0\n",
    "\\end{array}\n",
    "\\right]\n",
    "\\end{equation}\n",
    "and biases\n",
    "$\\boldsymbol{\\theta} = (-0.5,-0.3,-0.8,0.2)$.\n",
    "1. What is the state of the Hopfield network after one sequential update of the first, second, third and fourth node when we start at the initial node state $\\mathbf{x} = (0,1,1,1)$? \n",
    "1. What do you conclude from your observation?"
   ]
  },
  {
   "cell_type": "markdown",
   "metadata": {},
   "source": [
    "### Solution 2  (1 point):\n",
    "1\\. Sequential updates:\n",
    "\n",
    " $ \\begin{pmatrix} \n",
    "0 & -0.2 & -0.4 & 0\n",
    "\\end{pmatrix} \\cdot \n",
    "\\begin{pmatrix} \n",
    "0 \\\\\n",
    "1 \\\\\n",
    "1\\\\\n",
    "1\n",
    "\\end{pmatrix} + \\theta_1 = -0.6 + -0.5 = -1.1 < 0$, so it remains 0. So we have $\\textbf{x} = (0, 1, 1, 1)$.\n",
    "\n",
    "$ \\begin{pmatrix} \n",
    "-0.2 & 0 & 0.5 & 0.3\n",
    "\\end{pmatrix} \\cdot \n",
    "\\begin{pmatrix} \n",
    "0 \\\\\n",
    "1 \\\\\n",
    "1\\\\\n",
    "1\n",
    "\\end{pmatrix} + \\theta_2 = 0.8 + -0.3 = 0.5 \\geq 0$, so it remains 1. So we have $\\textbf{x} = (0, 1, 1, 1)$.\n",
    "\n",
    "$ \\begin{pmatrix} \n",
    "-0.4 & 0.5 & 0 & 0.8\n",
    "\\end{pmatrix} \\cdot \n",
    "\\begin{pmatrix} \n",
    "0 \\\\\n",
    "1 \\\\\n",
    "1\\\\\n",
    "1\n",
    "\\end{pmatrix} + \\theta_3 = 1.3 + -0.8 = 0.5 \\geq 0$, so it remains 1. So we have $\\textbf{x} = (0, 1, 1, 1)$.\n",
    "\n",
    "$ \\begin{pmatrix} \n",
    "0 & 0.3 & 0.8 & 0\n",
    "\\end{pmatrix} \\cdot \n",
    "\\begin{pmatrix} \n",
    "0 \\\\\n",
    "1 \\\\\n",
    "1\\\\\n",
    "1\n",
    "\\end{pmatrix} + \\theta_4 = 1.1 + 0.2 = 1.3 \\geq 0$, so it remains 1. So we have $\\textbf{x} = (0, 1, 1, 1)$.\n",
    "\n",
    "\n",
    "2\\. The network is in a stable state (local minimum), as it does not change anymore."
   ]
  },
  {
   "cell_type": "markdown",
   "metadata": {},
   "source": [
    "### Exercise 3 : A Hopfield network that fulfills a constraint (2 points)\n",
    "\n",
    "In this exercise you will run a Hopfield model that converges to a state that fulfills a constraint. \n",
    "\n",
    "1. Implement a function `optimize(n)` which returns a length `n` vector of node states. The constraint it should solve is that all nodes should be set to `0`, except for a single random node set to `1`.\n",
    "1. Show that your function works for different values of `n`.\n",
    "\n",
    "Start from random node states. Choose and implement the necessary weights and biases manually (i.e. you do not train the Hopfield network here). The resulting vector should be the configuration of the network when it has converged to a stable state. Make sure that your implementation fulfills all requirements for Hopfield networks to converge to stable states."
   ]
  },
  {
   "cell_type": "markdown",
   "metadata": {},
   "source": [
    "### Solution 3"
   ]
  },
  {
   "cell_type": "code",
   "execution_count": 2,
   "metadata": {},
   "outputs": [],
   "source": [
    "# The optimization function\n",
    "def optimize(n):\n",
    "    \"\"\"function to implement a constraint for a Hopfield Network\"\"\"\n",
    "    states = np.random.randint(0,2,n)\n",
    "    weights = np.full((n,n), -2)\n",
    "    np.fill_diagonal(weights, 0)\n",
    "    biases = np.full(n, 1)\n",
    "    treshold = 0\n",
    "\n",
    "    for i in range(n):\n",
    "        input = np.dot(states, weights[i]) + biases[i]\n",
    "        states[i] = int(input >= treshold)\n",
    "        \n",
    "    return states"
   ]
  },
  {
   "cell_type": "code",
   "execution_count": 3,
   "metadata": {
    "scrolled": true
   },
   "outputs": [
    {
     "name": "stdout",
     "output_type": "stream",
     "text": [
      "1 states: [1]\n",
      "2 states: [0 1]\n",
      "3 states: [0 1 0]\n",
      "4 states: [0 0 0 1]\n",
      "5 states: [0 0 0 0 1]\n",
      "6 states: [0 0 0 0 0 1]\n",
      "7 states: [0 0 0 0 0 0 1]\n",
      "8 states: [0 0 0 0 1 0 0 0]\n",
      "9 states: [0 0 0 0 0 1 0 0 0]\n",
      "10 states: [0 0 0 0 0 0 0 0 0 1]\n",
      "11 states: [0 0 0 0 0 0 1 0 0 0 0]\n",
      "12 states: [0 0 0 0 0 0 0 0 0 0 1 0]\n",
      "13 states: [0 0 0 0 0 0 0 0 0 0 0 1 0]\n",
      "14 states: [0 0 0 0 0 0 0 0 0 0 0 0 0 1]\n",
      "15 states: [0 0 0 0 0 0 0 0 0 0 0 0 0 0 1]\n",
      "16 states: [0 0 0 0 0 0 0 0 0 0 0 0 0 0 0 1]\n",
      "17 states: [0 0 0 0 0 0 0 0 0 0 0 0 0 0 0 1 0]\n",
      "18 states: [0 0 0 0 0 0 0 0 0 0 0 0 0 0 0 0 0 1]\n",
      "19 states: [0 0 0 0 0 0 0 0 0 0 0 0 0 0 0 0 0 0 1]\n"
     ]
    }
   ],
   "source": [
    "for i in range(1, 20):\n",
    "    states = optimize(i)\n",
    "    print(\"{} states: {}\".format(i, states))"
   ]
  },
  {
   "cell_type": "markdown",
   "metadata": {},
   "source": [
    "### Training a Hopfield network on given patterns\n",
    "\n",
    "You will now implement a Hopfield network that learns to reconstruct given images. Here you can *a) ignore the bias term*; and *b) use bipolar nodes*. \n",
    "\n",
    "The next cells load an image, resize it and store it together with a mirrored version of the same image in the variables `x1` and `x2`, which will be stacked in the training data `X`. These are your *input patterns*. "
   ]
  },
  {
   "cell_type": "code",
   "execution_count": 4,
   "metadata": {},
   "outputs": [],
   "source": [
    "# The source image\n",
    "f = urllib.request.urlopen(\"https://homepages.cae.wisc.edu/~ece533/images/watch.png\")\n",
    "\n",
    "# Read the image\n",
    "x1 = mpimg.imread(f)\n",
    "x1 = ski.transform.resize(x1, (76, 102), mode=\"reflect\", anti_aliasing=True)\n",
    "\n",
    "# Make 2D and bipolar\n",
    "x1 = np.mean(x1, axis=2)\n",
    "x1[x1 < np.mean(x1.flatten())] = -1 # Black\n",
    "x1[x1 >= np.mean(x1.flatten())] = 1 # White\n",
    "x1.astype(\"int32\")\n",
    "\n",
    "# Make duplicate but mirrored second image\n",
    "x2 = np.fliplr(x1)\n",
    "\n",
    "# Flatten images\n",
    "sz = x1.shape\n",
    "X = np.stack((x1.flatten(), x2.flatten()), axis=1)"
   ]
  },
  {
   "cell_type": "code",
   "execution_count": 5,
   "metadata": {},
   "outputs": [
    {
     "data": {
      "image/png": "[encoded data removed]",
      "text/plain": [
       "<Figure size 720x360 with 2 Axes>"
      ]
     },
     "metadata": {},
     "output_type": "display_data"
    }
   ],
   "source": [
    "fig, ax = plt.subplots(1, 2, figsize=(10, 5))\n",
    "\n",
    "ax[0].imshow(X[:, 0].reshape(sz), cmap=\"gray\")\n",
    "ax[0].set_xticks([])\n",
    "ax[0].set_yticks([])\n",
    "ax[0].set_title(\"x1\")\n",
    "\n",
    "ax[1].imshow(X[:, 1].reshape(sz), cmap=\"gray\")\n",
    "ax[1].set_xticks([])\n",
    "ax[1].set_yticks([])\n",
    "ax[1].set_title(\"x2\")\n",
    "plt.show()"
   ]
  },
  {
   "cell_type": "markdown",
   "metadata": {},
   "source": [
    "### Exercise 4: Hopfield training  (1 point)\n",
    "Write a function `hopfield_train(X)` which takes the $n$ *input patterns* `X` (shape $(m,n)$) as argument and returns the weight matrix `w` for a trained Hopfield network with $m$ nodes. Initialize the weights with zeros and then implement the learning rule for the weights. Again, make sure that your network fulfills the requirements for Hopfield network convergence. \n",
    "\n",
    "Note that you can write the weight update term per *input pattern* in a single line using the dot product. "
   ]
  },
  {
   "cell_type": "markdown",
   "metadata": {},
   "source": [
    "### Solution 4"
   ]
  },
  {
   "cell_type": "code",
   "execution_count": 6,
   "metadata": {},
   "outputs": [],
   "source": [
    "def hopfield_train(X):\n",
    "    \"\"\" function to update weights of Hopfield Network\"\"\"\n",
    "    # fetch network parameters\n",
    "    m, n = X.shape\n",
    "\n",
    "    # Initialize weights\n",
    "    w = np.full((m,m), 0)\n",
    "             \n",
    "    # Hebbian learning\n",
    "    dw = np.dot(X, X.T)\n",
    "    w = np.add(w, dw)\n",
    "    \n",
    "    # Avoid self-connections: requirement for Hopfield network convergence\n",
    "    np.fill_diagonal(w, 0)\n",
    "\n",
    "    return w"
   ]
  },
  {
   "cell_type": "markdown",
   "metadata": {},
   "source": [
    "### Exercise 5  (1 points)\n",
    "Write a function `hopfield_test(X, w, n_epochs)` which takes the $n$ initial states `X` (shape $(m,n)$) and the learned weights `w` and updates all units in random order for `n_epochs` times (i.e., which \"runs\" your trained Hopfield network for `n_epochs` rounds). The return value should be the updated states of the Hopfield network. Make sure that your iteration fulfills the requirements for Hopfield network convergence."
   ]
  },
  {
   "cell_type": "markdown",
   "metadata": {},
   "source": [
    "### Solution 5"
   ]
  },
  {
   "cell_type": "code",
   "execution_count": 7,
   "metadata": {},
   "outputs": [],
   "source": [
    "def hopfield_test(X, w, n_epochs=10):\n",
    "    m, n = X.shape\n",
    "    Y = X.copy()\n",
    "    \n",
    "    # Loop over epochs\n",
    "    for epoch in range(n_epochs):\n",
    "        # Loop over examples\n",
    "        for y in Y.T:       \n",
    "            # Loop over nodes \n",
    "            for i in np.random.permutation(m):\n",
    "                # Update node\n",
    "                dY = np.dot(y, w[i])\n",
    "                y[i] = np.sign(dY)\n",
    "                \n",
    "    return Y"
   ]
  },
  {
   "cell_type": "markdown",
   "metadata": {},
   "source": [
    "### Exercise 6  (1 points)\n",
    "Train your hopfield network on the two *input patterns* in `X` and save the weights. "
   ]
  },
  {
   "cell_type": "markdown",
   "metadata": {},
   "source": [
    "### Solution 6"
   ]
  },
  {
   "cell_type": "code",
   "execution_count": 8,
   "metadata": {},
   "outputs": [],
   "source": [
    "# train Hopfield Network\n",
    "w = hopfield_train(X)"
   ]
  },
  {
   "cell_type": "code",
   "execution_count": 9,
   "metadata": {},
   "outputs": [
    {
     "data": {
      "image/png": "[encoded data removed]",
      "text/plain": [
       "<Figure size 432x288 with 1 Axes>"
      ]
     },
     "metadata": {},
     "output_type": "display_data"
    }
   ],
   "source": [
    "# visualize weight matrix\n",
    "plt.figure()\n",
    "plt.imshow(w, cmap=\"gray\")\n",
    "plt.xticks([])\n",
    "plt.yticks([])\n",
    "plt.title('Hopfield Network - Weight Matrix Visualization')\n",
    "plt.show()"
   ]
  },
  {
   "cell_type": "markdown",
   "metadata": {},
   "source": [
    "### Exercise 7 (2 points)\n",
    "\n",
    "Test whether your trained Hopfield net can reconstruct the original images when starting from different degrees of corruption (which means randomly changing the pattern's node states). Make use of the function `corrupt_images` for this. \n",
    "\n",
    "1. Choose 4 degrees of corruption (between min: 10%, max: 100%) you want to test. Corrupt the original input images in `X` accordingly.  \n",
    "1. Run your trained Hopfield network with the corrupted images as input. It may not need to run for long time. \n",
    "1. For both patterns show the original, the corrupted and the reconstructed images next to each other. \n",
    "1. For each of the degrees of corruption, comment on what you see. "
   ]
  },
  {
   "cell_type": "code",
   "execution_count": 10,
   "metadata": {},
   "outputs": [],
   "source": [
    "def corrupt_images(X, percentage=25):\n",
    "    \"\"\"function to corrupt images\"\"\"\n",
    "    Xhat = X.copy()\n",
    "    n_pixels = int(X.shape[0] * percentage / 100)\n",
    "    for i_example in range(X.shape[1]):\n",
    "        idx = np.random.permutation(X.shape[0])[:n_pixels]\n",
    "        Xhat[idx, i_example] = 2 * np.random.randint(0, 2, n_pixels) - 1\n",
    "    return Xhat"
   ]
  },
  {
   "cell_type": "markdown",
   "metadata": {},
   "source": [
    "### Solution 7"
   ]
  },
  {
   "cell_type": "code",
   "execution_count": 11,
   "metadata": {},
   "outputs": [],
   "source": [
    "def plot_images(X_cor, X, Y, corruption):\n",
    "    \"\"\"function to plot images (original and reconstructed)\"\"\"\n",
    "    fig, ax = plt.subplots(1, 3, figsize=(10, 5))\n",
    "\n",
    "    ax[0].imshow(X_cor[:, 0].reshape(sz), cmap=\"gray\")\n",
    "    ax[0].set_xticks([])\n",
    "    ax[0].set_yticks([])\n",
    "    ax[0].set_title(\"Image 1 - \" + str(corruption) + \"% corrupted\")\n",
    "\n",
    "    ax[1].imshow(Y[:, 0].reshape(sz), cmap=\"gray\")\n",
    "    ax[1].set_xticks([])\n",
    "    ax[1].set_yticks([])\n",
    "    ax[1].set_title(\"Image 1 - reconstructed\")\n",
    "\n",
    "    ax[2].imshow(X[:, 0].reshape(sz), cmap=\"gray\")\n",
    "    ax[2].set_xticks([])\n",
    "    ax[2].set_yticks([])\n",
    "    ax[2].set_title(\"Image 1 - original\")\n",
    "\n",
    "    fig, ax = plt.subplots(1, 3, figsize=(10, 5))\n",
    "\n",
    "    ax[0].imshow(X_cor[:, 1].reshape(sz), cmap=\"gray\")\n",
    "    ax[0].set_xticks([])\n",
    "    ax[0].set_yticks([])\n",
    "    ax[0].set_title(\"Image 2 - \" + str(corruption) + \"% corrupted\")\n",
    "\n",
    "    ax[1].imshow(Y[:, 1].reshape(sz), cmap=\"gray\")\n",
    "    ax[1].set_xticks([])\n",
    "    ax[1].set_yticks([])\n",
    "    ax[1].set_title(\"Image 2 - reconstructed\")\n",
    "\n",
    "    ax[2].imshow(X[:, 1].reshape(sz), cmap=\"gray\")\n",
    "    ax[2].set_xticks([])\n",
    "    ax[2].set_yticks([])\n",
    "    ax[2].set_title(\"Image 2 - original\")\n",
    "    plt.show()"
   ]
  },
  {
   "cell_type": "code",
   "execution_count": 12,
   "metadata": {},
   "outputs": [
    {
     "data": {
      "image/png": "[encoded data removed]",
      "text/plain": [
       "<Figure size 720x360 with 3 Axes>"
      ]
     },
     "metadata": {},
     "output_type": "display_data"
    },
    {
     "data": {
      "image/png": "[encoded data removed]",
      "text/plain": [
       "<Figure size 720x360 with 3 Axes>"
      ]
     },
     "metadata": {},
     "output_type": "display_data"
    }
   ],
   "source": [
    "# Corrupt images\n",
    "corruption = 10\n",
    "X_cor_10 = corrupt_images(X, corruption)\n",
    "\n",
    "# Test associative memory properties\n",
    "Y_10 = hopfield_test(X_cor_10, w)\n",
    "\n",
    "# Plot results    \n",
    "plot_images(X_cor_10, X, Y_10, corruption)"
   ]
  },
  {
   "cell_type": "markdown",
   "metadata": {},
   "source": [
    "The network was able to correctly identify and reconstruct the images."
   ]
  },
  {
   "cell_type": "code",
   "execution_count": 13,
   "metadata": {},
   "outputs": [
    {
     "data": {
      "image/png": "[encoded data removed]",
      "text/plain": [
       "<Figure size 720x360 with 3 Axes>"
      ]
     },
     "metadata": {},
     "output_type": "display_data"
    },
    {
     "data": {
      "image/png": "[encoded data removed]",
      "text/plain": [
       "<Figure size 720x360 with 3 Axes>"
      ]
     },
     "metadata": {},
     "output_type": "display_data"
    }
   ],
   "source": [
    "# Corrupt images\n",
    "corruption = 50\n",
    "X_cor_50 = corrupt_images(X, corruption)\n",
    "\n",
    "# Test associative memory properties\n",
    "Y_50 = hopfield_test(X_cor_50, w)\n",
    "\n",
    "# Plot results\n",
    "plot_images(X_cor_50, X, Y_50, corruption)"
   ]
  },
  {
   "cell_type": "markdown",
   "metadata": {
    "collapsed": true
   },
   "source": [
    "The network was again able to correctly identify and reconstruct the images."
   ]
  },
  {
   "cell_type": "code",
   "execution_count": 14,
   "metadata": {},
   "outputs": [
    {
     "data": {
      "image/png": "[encoded data removed]",
      "text/plain": [
       "<Figure size 720x360 with 3 Axes>"
      ]
     },
     "metadata": {},
     "output_type": "display_data"
    },
    {
     "data": {
      "image/png": "[encoded data removed]",
      "text/plain": [
       "<Figure size 720x360 with 3 Axes>"
      ]
     },
     "metadata": {},
     "output_type": "display_data"
    }
   ],
   "source": [
    "# Corrupt images\n",
    "corruption = 80\n",
    "X_cor_80 = corrupt_images(X, corruption)\n",
    "\n",
    "# Test associative memory properties\n",
    "Y_80 = hopfield_test(X_cor_80, w)\n",
    "\n",
    "# Plot results\n",
    "plot_images(X_cor_80, X, Y_80, corruption)"
   ]
  },
  {
   "cell_type": "markdown",
   "metadata": {
    "collapsed": true
   },
   "source": [
    "The network was again able to correctly identify and reconstruct the images."
   ]
  },
  {
   "cell_type": "code",
   "execution_count": 15,
   "metadata": {},
   "outputs": [
    {
     "data": {
      "image/png": "[encoded data removed]",
      "text/plain": [
       "<Figure size 720x360 with 3 Axes>"
      ]
     },
     "metadata": {},
     "output_type": "display_data"
    },
    {
     "data": {
      "image/png": "[encoded data removed]",
      "text/plain": [
       "<Figure size 720x360 with 3 Axes>"
      ]
     },
     "metadata": {},
     "output_type": "display_data"
    }
   ],
   "source": [
    "# Corrupt images\n",
    "corruption = 100\n",
    "X_cor_100 = corrupt_images(X, corruption)\n",
    "\n",
    "# Test associative memory properties\n",
    "Y_100 = hopfield_test(X_cor_100, w)\n",
    "\n",
    "# Plot results\n",
    "plot_images(X_cor_100, X, Y_100, corruption)"
   ]
  },
  {
   "cell_type": "markdown",
   "metadata": {
    "collapsed": true
   },
   "source": [
    "The images are completely random now. Sometimes it still 'guesses' the correct image, but most of the time that's not the case. The network often converges to a stable state where parts of both images are still recognizable, but mixed together with inverted colors. "
   ]
  }
 ],
 "metadata": {
  "anaconda-cloud": {},
  "kernelspec": {
   "display_name": "Python 3",
   "language": "python",
   "name": "python3"
  },
  "language_info": {
   "codemirror_mode": {
    "name": "ipython",
    "version": 3
   },
   "file_extension": ".py",
   "mimetype": "text/x-python",
   "name": "python",
   "nbconvert_exporter": "python",
   "pygments_lexer": "ipython3",
   "version": "3.7.3"
  },
  "varInspector": {
   "cols": {
    "lenName": 16,
    "lenType": 16,
    "lenVar": 40
   },
   "kernels_config": {
    "python": {
     "delete_cmd_postfix": "",
     "delete_cmd_prefix": "del ",
     "library": "var_list.py",
     "varRefreshCmd": "print(var_dic_list())"
    },
    "r": {
     "delete_cmd_postfix": ") ",
     "delete_cmd_prefix": "rm(",
     "library": "var_list.r",
     "varRefreshCmd": "cat(var_dic_list()) "
    }
   },
   "types_to_exclude": [
    "module",
    "function",
    "builtin_function_or_method",
    "instance",
    "_Feature"
   ],
   "window_display": false
  }
 },
 "nbformat": 4,
 "nbformat_minor": 1
}
