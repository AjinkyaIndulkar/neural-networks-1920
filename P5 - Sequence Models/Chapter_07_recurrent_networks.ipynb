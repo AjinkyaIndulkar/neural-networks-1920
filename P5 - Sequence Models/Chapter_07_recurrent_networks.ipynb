{
 "cells": [
  {
   "cell_type": "markdown",
   "metadata": {},
   "source": [
    "##### Author contributions\n",
    "Please fill out for each of the following parts who contributed to what:\n",
    "- Conceived ideas: \n",
    "- Performed math exercises: \n",
    "- Performed programming exercises:\n",
    "- Contributed to the overall final assignment: "
   ]
  },
  {
   "cell_type": "markdown",
   "metadata": {},
   "source": [
    "# Chapter 7\n",
    "## Recurrent neural networks\n",
    "\n",
    "\n",
    "    Hand-in bug-free (try \"Kernel\" > \"Restart & Run All\") and including all (textual as well as figural) output via Brightspace before the deadline (see Brightspace).\n",
    "\n",
    "Learning goals:\n",
    "1. Get familiar with recurrent hidden units\n",
    "1. Implement a simple RNN (Elman network) in PyTorch\n",
    "1. Implement an LSTM-based neural network in PyTorch"
   ]
  },
  {
   "cell_type": "code",
   "execution_count": 1,
   "metadata": {},
   "outputs": [],
   "source": [
    "%matplotlib inline\n",
    "import matplotlib.pyplot as plt\n",
    "import numpy as np\n",
    "import torch\n",
    "import torch.nn as nn\n",
    "import torch.nn.functional as F\n",
    "import torch.optim as optim\n",
    "import torchvision\n",
    "import torchvision.transforms as transforms"
   ]
  },
  {
   "cell_type": "markdown",
   "metadata": {},
   "source": [
    "### Exercise 1  (1 point)"
   ]
  },
  {
   "cell_type": "markdown",
   "metadata": {},
   "source": [
    "Consider a recurrent neural network with one input unit $x$, one sigmoid recurrent hidden unit $h$, and one linear output unit $y$. The values of $x$ are given for 3 time points in `x_t`. As this is a very small RNN, $W^i$, $W^h$ and $W^o$ are given as the scalar values `w_i`, `w_h` and `w_o` respectively. The hidden unit has an added bias `h_bias`. The hidden unit state is initialized with `0.0`. The only 'value-manipulating' activation function in this network is the sigmoid activation $\\sigma(\\cdot)$ on the hidden unit. \n",
    "\n",
    "1. Write down the forward pass of this network for a specific time point $t$. \n",
    "1. What is the value of the hidden state $h$ after processing the last input `x_t[2]`? \n",
    "1. What is the output `y` of the network after processing the last input `x_t[2]`? \n",
    "\n",
    "\\begin{eqnarray*}\n",
    "h_t &=& \\\\ \n",
    "y_t &=&  \\\\\n",
    "\\end{eqnarray*}\n",
    "\n",
    "\n",
    "For 1.2 and 1.3, you can either compute the solution by hand (show clearly how you arrived there, 3 decimal points) or write code to find the answer. "
   ]
  },
  {
   "cell_type": "code",
   "execution_count": 2,
   "metadata": {},
   "outputs": [],
   "source": [
    "# inputs over times 0, 1, 2:\n",
    "x_t = [9.0, 4.0, -2.0]\n",
    "\n",
    "# weights and bias terms: \n",
    "w_i = 0.5\n",
    "w_h = -1.0\n",
    "w_o = -0.7\n",
    "h_bias = -1.0\n",
    "y_bias = 0.0"
   ]
  },
  {
   "cell_type": "markdown",
   "metadata": {},
   "source": [
    "### Solution 1"
   ]
  },
  {
   "cell_type": "markdown",
   "metadata": {},
   "source": [
    "1. The forward pass for the network is \n",
    "\\begin{eqnarray*}\n",
    "h_t &=& \\sigma(w\\_i \\cdot x_t + w\\_h \\cdot h_{t-1} + h_b)\\\\ \n",
    "y_t &=&  w\\_o \\cdot h_t + y_b\\\\\n",
    "\\end{eqnarray*}\n",
    "where $h_b$ and $y_b$ are the biases. \n",
    "For $t=0$, we have\n",
    "$$h_0 = \\sigma(w\\_i \\cdot x_0 + h_b)$$"
   ]
  },
  {
   "cell_type": "code",
   "execution_count": 3,
   "metadata": {},
   "outputs": [
    {
     "name": "stdout",
     "output_type": "stream",
     "text": [
      "0.07534608655539546\n",
      "-0.05274226058877682\n"
     ]
    }
   ],
   "source": [
    "def sigmoid(x):\n",
    "    return 1 / (1 + np.exp(-x))\n",
    "\n",
    "h = 0.0\n",
    "for x in x_t:\n",
    "    h = sigmoid(w_i * x + w_h * h + h_bias)\n",
    "    y = w_o * h + y_bias\n",
    "\n",
    "print(h)\n",
    "print(y)"
   ]
  },
  {
   "cell_type": "markdown",
   "metadata": {},
   "source": [
    "### Code introduction\n",
    "\n",
    "We will apply two recurrent neural networks to learn a dynamic variant of the *adding problem*. First, run the next cell and inspect the output. \n",
    "\n",
    "There is a stream of inputs to the network, two at each time step. The first input unit will receive a series of decimal numbers in the interval $[-1,1]$. The second input unit will receive the numbers $0$, $-1$, or $1$. The target is the sum of the preceding two decimal numbers that came together with the number $1$ (called the marker, `x` in the generated output), and it should be produced whenever a marker has been seen. In the beginning until two of these markers have been seen, the output will stay 0. \n",
    "\n",
    "\n",
    "Below you will find two functions: \n",
    "1. `create_addition_data`: Generates sequential training data sets `X` and `T` for the dynamic *adding problem*, returns numpy array.\n",
    "1. `MyDataset`: a custom PyTorch dataset that makes sure dimensions are as PyTorch likes them, and can return individual samples the way PyTorch wants them.\n",
    "\n",
    "Note, the data are represented in a dictionary called `data`. To access the training, validation, and testing data, you can call `data[\"train\"]`, `data[\"valid]`, and `data[\"test\"]` respectively."
   ]
  },
  {
   "cell_type": "code",
   "execution_count": 4,
   "metadata": {},
   "outputs": [],
   "source": [
    "def create_addition_data(n_samples=3000):\n",
    "    # This is a dynamic variant of the adding problem. \n",
    "    \n",
    "    # Random numbers in [-1.0,1.0]): \n",
    "    X1 = np.random.uniform(low=-1.0, high=1.0, size=(n_samples,) )   \n",
    "    \n",
    "    # Random markers [-1.0, 0.0, 1.0] (1.0 marks the numbers that should be added):\n",
    "    X2 = np.random.choice([-1.0, 0.0, 1.0], size=(n_samples,), p=[0.25, 0.25, 0.5])\n",
    "    \n",
    "    # Combine\n",
    "    X = np.vstack((X1, X2)).T.astype(\"float32\")\n",
    "\n",
    "    # Create targets\n",
    "    T = np.zeros((n_samples, 1)).astype(\"float32\")\n",
    "\n",
    "    # Get indices of 1.0\n",
    "    markers = np.nonzero(X2 == 1.0)[0]\n",
    "    \n",
    "    # Generate data\n",
    "    mem = X1[markers[0]]\n",
    "    for mi, marker in enumerate(markers[1:]):\n",
    "        T[marker] = mem + X1[marker]\n",
    "        mem = X1[marker]\n",
    "                \n",
    "    return X, T"
   ]
  },
  {
   "cell_type": "code",
   "execution_count": 5,
   "metadata": {
    "scrolled": true
   },
   "outputs": [
    {
     "name": "stdout",
     "output_type": "stream",
     "text": [
      "Data for the adding problem (x marks 1.0):\n",
      "Time: 000 \t x: (-0.014 , x) \t t: +0.000 \n",
      "Time: 001 \t x: (+0.998 ,  ) \t t: +0.000 \n",
      "Time: 002 \t x: (-0.720 ,  ) \t t: +0.000 \n",
      "Time: 003 \t x: (+0.491 ,  ) \t t: +0.000 \n",
      "Time: 004 \t x: (+0.186 , x) \t t: +0.171 \n",
      "Time: 005 \t x: (-0.118 , x) \t t: +0.068 \n",
      "Time: 006 \t x: (+0.503 ,  ) \t t: +0.000 \n",
      "Time: 007 \t x: (+1.000 , x) \t t: +0.882 \n",
      "Time: 008 \t x: (-0.978 ,  ) \t t: +0.000 \n",
      "Time: 009 \t x: (+0.327 ,  ) \t t: +0.000 \n",
      "Time: 010 \t x: (-0.866 ,  ) \t t: +0.000 \n",
      "Time: 011 \t x: (-0.505 , x) \t t: +0.494 \n",
      "Time: 012 \t x: (+0.307 ,  ) \t t: +0.000 \n",
      "Time: 013 \t x: (-0.023 , x) \t t: -0.528 \n",
      "Time: 014 \t x: (-0.083 ,  ) \t t: +0.000 \n",
      "Time: 015 \t x: (+0.846 ,  ) \t t: +0.000 \n",
      "Time: 016 \t x: (+0.855 ,  ) \t t: +0.000 \n",
      "Time: 017 \t x: (+0.966 ,  ) \t t: +0.000 \n",
      "Time: 018 \t x: (-0.544 ,  ) \t t: +0.000 \n",
      "Time: 019 \t x: (-0.033 ,  ) \t t: +0.000 \n",
      "Time: 020 \t x: (+0.613 , x) \t t: +0.590 \n",
      "Time: 021 \t x: (+0.818 ,  ) \t t: +0.000 \n",
      "Time: 022 \t x: (-0.478 , x) \t t: +0.136 \n",
      "Time: 023 \t x: (-0.929 ,  ) \t t: +0.000 \n",
      "Time: 024 \t x: (-0.352 ,  ) \t t: +0.000 \n",
      "Time: 025 \t x: (-0.656 , x) \t t: -1.134 \n",
      "Time: 026 \t x: (-0.965 , x) \t t: -1.621 \n",
      "Time: 027 \t x: (+0.044 ,  ) \t t: +0.000 \n",
      "Time: 028 \t x: (+0.092 , x) \t t: -0.873 \n",
      "Time: 029 \t x: (-0.703 ,  ) \t t: +0.000 \n",
      "Time: 030 \t x: (+0.693 , x) \t t: +0.784 \n",
      "Time: 031 \t x: (-0.447 ,  ) \t t: +0.000 \n",
      "Time: 032 \t x: (-0.037 ,  ) \t t: +0.000 \n",
      "Time: 033 \t x: (+0.225 ,  ) \t t: +0.000 \n",
      "Time: 034 \t x: (+0.998 , x) \t t: +1.691 \n",
      "Time: 035 \t x: (-0.625 , x) \t t: +0.373 \n",
      "Time: 036 \t x: (-0.398 , x) \t t: -1.024 \n",
      "Time: 037 \t x: (+0.445 , x) \t t: +0.047 \n",
      "Time: 038 \t x: (-0.834 , x) \t t: -0.389 \n",
      "Time: 039 \t x: (+0.076 ,  ) \t t: +0.000 \n",
      "Time: 040 \t x: (+0.839 , x) \t t: +0.005 \n",
      "Time: 041 \t x: (+0.726 , x) \t t: +1.565 \n",
      "Time: 042 \t x: (-0.099 ,  ) \t t: +0.000 \n",
      "Time: 043 \t x: (+0.305 ,  ) \t t: +0.000 \n",
      "Time: 044 \t x: (+0.376 ,  ) \t t: +0.000 \n",
      "Time: 045 \t x: (+0.214 , x) \t t: +0.939 \n",
      "Time: 046 \t x: (-0.273 , x) \t t: -0.059 \n",
      "Time: 047 \t x: (+0.145 ,  ) \t t: +0.000 \n",
      "Time: 048 \t x: (-0.759 ,  ) \t t: +0.000 \n",
      "Time: 049 \t x: (+0.637 ,  ) \t t: +0.000 \n",
      "Time: 050 \t x: (+0.908 , x) \t t: +0.635 \n",
      "Time: 051 \t x: (+0.449 ,  ) \t t: +0.000 \n",
      "Time: 052 \t x: (-0.889 , x) \t t: +0.020 \n",
      "Time: 053 \t x: (-0.112 ,  ) \t t: +0.000 \n",
      "Time: 054 \t x: (+0.087 ,  ) \t t: +0.000 \n",
      "Time: 055 \t x: (+0.044 ,  ) \t t: +0.000 \n",
      "Time: 056 \t x: (-0.667 ,  ) \t t: +0.000 \n",
      "Time: 057 \t x: (-0.471 , x) \t t: -1.359 \n",
      "Time: 058 \t x: (+0.250 , x) \t t: -0.220 \n",
      "Time: 059 \t x: (+0.176 , x) \t t: +0.426 \n",
      "Time: 060 \t x: (-0.116 , x) \t t: +0.060 \n",
      "Time: 061 \t x: (+0.443 , x) \t t: +0.327 \n",
      "Time: 062 \t x: (-0.736 , x) \t t: -0.293 \n",
      "Time: 063 \t x: (-0.916 ,  ) \t t: +0.000 \n",
      "Time: 064 \t x: (-0.297 , x) \t t: -1.032 \n",
      "Time: 065 \t x: (-0.602 , x) \t t: -0.898 \n",
      "Time: 066 \t x: (-0.330 , x) \t t: -0.932 \n",
      "Time: 067 \t x: (+0.390 ,  ) \t t: +0.000 \n",
      "Time: 068 \t x: (-0.426 , x) \t t: -0.756 \n",
      "Time: 069 \t x: (-0.111 ,  ) \t t: +0.000 \n",
      "Time: 070 \t x: (-0.725 , x) \t t: -1.151 \n",
      "Time: 071 \t x: (-0.807 , x) \t t: -1.532 \n",
      "Time: 072 \t x: (+0.164 , x) \t t: -0.644 \n",
      "Time: 073 \t x: (+0.680 , x) \t t: +0.843 \n",
      "Time: 074 \t x: (+0.158 ,  ) \t t: +0.000 \n",
      "Time: 075 \t x: (+0.022 , x) \t t: +0.702 \n",
      "Time: 076 \t x: (+0.766 , x) \t t: +0.788 \n",
      "Time: 077 \t x: (-0.941 ,  ) \t t: +0.000 \n",
      "Time: 078 \t x: (+0.602 , x) \t t: +1.368 \n",
      "Time: 079 \t x: (+0.037 , x) \t t: +0.639 \n",
      "Time: 080 \t x: (-0.130 , x) \t t: -0.094 \n",
      "Time: 081 \t x: (+0.402 ,  ) \t t: +0.000 \n",
      "Time: 082 \t x: (-0.657 ,  ) \t t: +0.000 \n",
      "Time: 083 \t x: (-0.080 ,  ) \t t: +0.000 \n",
      "Time: 084 \t x: (+0.211 ,  ) \t t: +0.000 \n",
      "Time: 085 \t x: (-0.037 , x) \t t: -0.168 \n",
      "Time: 086 \t x: (+0.661 ,  ) \t t: +0.000 \n",
      "Time: 087 \t x: (-0.996 ,  ) \t t: +0.000 \n",
      "Time: 088 \t x: (+0.764 ,  ) \t t: +0.000 \n",
      "Time: 089 \t x: (-0.785 , x) \t t: -0.822 \n",
      "Time: 090 \t x: (+0.678 ,  ) \t t: +0.000 \n",
      "Time: 091 \t x: (-0.221 , x) \t t: -1.007 \n",
      "Time: 092 \t x: (-0.139 ,  ) \t t: +0.000 \n",
      "Time: 093 \t x: (-0.412 ,  ) \t t: +0.000 \n",
      "Time: 094 \t x: (-0.732 , x) \t t: -0.953 \n",
      "Time: 095 \t x: (-0.585 ,  ) \t t: +0.000 \n",
      "Time: 096 \t x: (-0.572 ,  ) \t t: +0.000 \n",
      "Time: 097 \t x: (+0.700 ,  ) \t t: +0.000 \n",
      "Time: 098 \t x: (+0.987 ,  ) \t t: +0.000 \n",
      "Time: 099 \t x: (+0.017 ,  ) \t t: +0.000 \n"
     ]
    }
   ],
   "source": [
    "# Long as the markers x are sparse\n",
    "X, T = create_addition_data(n_samples=100)\n",
    "\n",
    "# Print some data\n",
    "print(\"Data for the adding problem (x marks 1.0):\")\n",
    "for t in range(X.shape[0]):\n",
    "    print(\"Time: {:03d} \\t x: ({:+.3f} , {}) \\t t: {:+.3f} \".format(\n",
    "        t, X[t,0], 'x' if X[t,1] == 1.0 else ' ', T[t,0]))"
   ]
  },
  {
   "cell_type": "code",
   "execution_count": 6,
   "metadata": {},
   "outputs": [],
   "source": [
    "# Make PyTorch dataset\n",
    "class MyDataset(torch.utils.data.Dataset):\n",
    "    \n",
    "    def __init__(self, X, T):\n",
    "        self.X = torch.from_numpy(X).type(torch.FloatTensor) # [n_examples, n_samples, n_features]\n",
    "        self.T = torch.from_numpy(T).type(torch.FloatTensor) # [n_examples, n_samples]\n",
    "        \n",
    "    def __getitem__(self, index):\n",
    "        return self.X[index, :, :], self.T[index]\n",
    "    \n",
    "    def __len__(self):\n",
    "        return self.X.size()[0]"
   ]
  },
  {
   "cell_type": "code",
   "execution_count": 7,
   "metadata": {},
   "outputs": [],
   "source": [
    "n_examples = 9\n",
    "n_samples = 3000\n",
    "data = {}\n",
    "\n",
    "# Define training data\n",
    "X = np.zeros((n_examples, n_samples, 2))\n",
    "T = np.zeros((n_examples, n_samples, 1))\n",
    "for i_example in range(n_examples):\n",
    "    X[i_example, :, :], T[i_example, :] = create_addition_data(n_samples)\n",
    "data[\"train\"] = torch.utils.data.DataLoader(MyDataset(X, T), batch_size=3)\n",
    "\n",
    "# Define validation data\n",
    "X = np.zeros((n_examples, n_samples, 2))\n",
    "T = np.zeros((n_examples, n_samples, 1))\n",
    "for i_example in range(n_examples):\n",
    "    X[i_example, :, :], T[i_example, :] = create_addition_data(n_samples)\n",
    "data[\"valid\"] = torch.utils.data.DataLoader(MyDataset(X, T), batch_size=3)\n",
    "\n",
    "# Define test data\n",
    "X = np.zeros((n_examples, n_samples, 2))\n",
    "T = np.zeros((n_examples, n_samples, 1))\n",
    "for i_example in range(n_examples):\n",
    "    X[i_example, :, :], T[i_example, :] = create_addition_data(n_samples)\n",
    "data[\"test\"] = torch.utils.data.DataLoader(MyDataset(X, T), batch_size=1)"
   ]
  },
  {
   "cell_type": "code",
   "execution_count": 8,
   "metadata": {},
   "outputs": [],
   "source": [
    "examples = enumerate(data[\"train\"])\n",
    "batch_idx, (example_data, example_targets) = next(examples)"
   ]
  },
  {
   "cell_type": "code",
   "execution_count": 9,
   "metadata": {},
   "outputs": [
    {
     "data": {
      "text/plain": [
       "tensor([[[-0.9663,  0.0000],\n",
       "         [ 0.1930, -1.0000],\n",
       "         [-0.0801,  0.0000],\n",
       "         ...,\n",
       "         [-0.2624,  1.0000],\n",
       "         [ 0.3353,  1.0000],\n",
       "         [-0.9884,  1.0000]],\n",
       "\n",
       "        [[ 0.9575, -1.0000],\n",
       "         [-0.9739,  1.0000],\n",
       "         [-0.9715, -1.0000],\n",
       "         ...,\n",
       "         [-0.5117, -1.0000],\n",
       "         [-0.3387,  1.0000],\n",
       "         [-0.8508,  1.0000]],\n",
       "\n",
       "        [[ 0.6344,  1.0000],\n",
       "         [-0.0210,  1.0000],\n",
       "         [ 0.8974, -1.0000],\n",
       "         ...,\n",
       "         [-0.2650,  1.0000],\n",
       "         [ 0.2912, -1.0000],\n",
       "         [ 0.0345, -1.0000]]])"
      ]
     },
     "execution_count": 9,
     "metadata": {},
     "output_type": "execute_result"
    }
   ],
   "source": [
    "example_data"
   ]
  },
  {
   "cell_type": "markdown",
   "metadata": {},
   "source": [
    "### Exercise 2: training a network  (0.5 points)\n",
    "\n",
    "We neede a function to train a `model`. This function `train_model(model, data, optimizer, criterion, n_epochs)` should do the following: \n",
    "\n",
    "1. Loop `n_epochs` times over the dataset, and loop over minibatches\n",
    "1. Train the model on the training data and save the loss per epoch\n",
    "1. Validate the model on the validation data and save the loss per epoch\n",
    "1. The function should return the trained model and the losses\n",
    "\n",
    "Note: this function is quite similar again as the function your wrote wor the MLP and CNN. The only difference is that we do not need to compute an accuracy, as we are performing regression here."
   ]
  },
  {
   "cell_type": "markdown",
   "metadata": {},
   "source": [
    "### Solution 2"
   ]
  },
  {
   "cell_type": "code",
   "execution_count": 10,
   "metadata": {},
   "outputs": [],
   "source": [
    "def train_model(model, data, optimizer, criterion, n_epochs):\n",
    "    \"\"\"\n",
    "    @description:\n",
    "        function to train a PyTorch Model\n",
    "    @arguments:\n",
    "        model (torch) - model to be trained\n",
    "        data (torch) - dataset loader\n",
    "        optimizer (torch) - optimization function\n",
    "        criterion (torch) - loss function\n",
    "        n_epochs (int) - number of training epochs (default = 200)\n",
    "        transform (torch) - input transformation\n",
    "    @returns:\n",
    "        model (torch) - trained model\n",
    "        train_loss (np array) - training loss over epochs\n",
    "        valid_loss (np array) - validation loss over epochs\n",
    "    \"\"\"\n",
    "    train_loss = np.zeros(n_epochs) # buffer for training loss over epochs\n",
    "    valid_loss = np.zeros(n_epochs) # buffer for validation loss over epochs\n",
    "\n",
    "    for epoch in range (n_epochs):\n",
    "        \n",
    "        # set model in training mode\n",
    "        model.train()\n",
    "        for images, labels in data[\"train\"]:\n",
    "            # zeroes the gradient buffers of all parameters\n",
    "            optimizer.zero_grad()\n",
    "            # forward function\n",
    "            outputs = model(images)\n",
    "            # compute loss\n",
    "            loss = criterion(outputs, labels)\n",
    "            # save loss\n",
    "            train_loss[epoch] = loss\n",
    "            # backpropagation function\n",
    "            loss.backward()\n",
    "            # optimize\n",
    "            optimizer.step()\n",
    "        \n",
    "        # set model in training mode\n",
    "        model.eval()\n",
    "        for images, labels in data[\"valid\"]:\n",
    "            # forward function\n",
    "            with torch.no_grad():\n",
    "                outputs = model(images)\n",
    "            # compute loss\n",
    "            valid_loss[epoch] = criterion(outputs, labels)\n",
    "        \n",
    "        # print training log\n",
    "        print(\"epoch {}: train_loss: {:.3f} | val_loss: {:.3f}\".format(epoch+1,train_loss[epoch],valid_loss[epoch]))\n",
    "\n",
    "    return model, train_loss, valid_loss  "
   ]
  },
  {
   "cell_type": "markdown",
   "metadata": {},
   "source": [
    "### Exercise 3: Testing a network  (1.5 points)\n",
    "\n",
    "We neede a function to test a trained `model`. This function `test_model(model, data)` should do the following: \n",
    "\n",
    "1. Let `model` predict outputs on the testing data. For this, iterate through test data `data[\"test]` and pass each sample through `model`. \n",
    "1. Save the model output as well as the target output\n",
    "1. The function should return the predicted and target outputs"
   ]
  },
  {
   "cell_type": "markdown",
   "metadata": {},
   "source": [
    "### Solution 3"
   ]
  },
  {
   "cell_type": "code",
   "execution_count": 11,
   "metadata": {},
   "outputs": [],
   "source": [
    "def test_model(model, data):\n",
    "    \"\"\"\n",
    "    @description:\n",
    "        function to test a PyTorch Model\n",
    "    @arguments:\n",
    "        model (torch) - model to be trained\n",
    "        data (torch) - dataset loader\n",
    "    @returns:\n",
    "        y_pred (np array) - predicted outputs\n",
    "        y_true (np array) - true outputs\n",
    "    \"\"\"\n",
    "    y_pred = []\n",
    "    y_true = []\n",
    "    \n",
    "    # set model in training mode\n",
    "    model.eval()\n",
    "    for images, labels in data[\"test\"]:\n",
    "        # forward function\n",
    "        with torch.no_grad():\n",
    "            outputs = model(images)\n",
    "            \n",
    "        #----REQUIRES CHANGE---#  #has been changed, don't know if this is the most optimal way to do it\n",
    "        \n",
    "        #Convert tensors into arrays\n",
    "        outputs_array = outputs.numpy()\n",
    "        labels_array = labels.numpy()\n",
    "        \n",
    "        #Append the lists with the new found values\n",
    "        y_pred.append(outputs_array) \n",
    "        y_true.append(labels_array) \n",
    "        \n",
    "        #---------------------#\n",
    "        \n",
    "    return y_pred, y_true"
   ]
  },
  {
   "cell_type": "markdown",
   "metadata": {},
   "source": [
    "### Exercise 4: Simple RNN  (3 points)\n",
    "\n",
    "We first implement a simple recurrent architecture (a simple [Elman network](http://mnemstudio.org/neural-networks-elman.htm)). \n",
    "\n",
    "1. First implement the linear layers `l1` and `l2`. They should lead from `n_input` input units over `n_hidden` hidden units to `n_out` output units.\n",
    "1. Add a recurrent linear weight layer `hr`. These are weights that self-connect to the hidden units. The input will be the values of the `n_hidden` hidden units, and they should project back to the `n_hidden` hidden units. \n",
    "1. A forward pass will update the hidden state with the inputs and the recurrent layer weights, and produce the output from the hidden unit. Specifically you should do the following: \n",
    "    2. If we are at the first time point, the hidden state should be set to the input passed through `l1` and `tanh` activations.\n",
    "    2. If the hidden state has information from previous time points: a) Pass the input through `l1`. b) Pass the hidden state through the recurrent weight layer `hr`. c) The sum of a) and b) should be passed through the `tanh` activation. d) The result should be the new hidden state (used for the next time point).\n",
    "    2. Finally pass the hidden state through layer `l2`. This produces the output `y` for that time point.\n",
    "1. The forward pass will receive data `x` with shape [batch_size, time_points, features]. So within the forward pass, you will have to loop over time points, performing the steps as descibed above. The output of the forward pass is then output `y` with shape [batch_size, time_points, 1].\n",
    "\n",
    "Note: this exercise could also be done with nn.RNN(). However, we want you to understand what a RNN is doing, so we want you to use nn.Linear instead."
   ]
  },
  {
   "cell_type": "markdown",
   "metadata": {},
   "source": [
    "### Solution 4"
   ]
  },
  {
   "cell_type": "code",
   "execution_count": 12,
   "metadata": {},
   "outputs": [],
   "source": [
    "class RNN(nn.Module):\n",
    "    \"\"\"\n",
    "    PyTorch Implementation of Simple RNN\n",
    "    \"\"\"\n",
    "    def __init__(self, n_input, n_hidden, n_out):\n",
    "        \"\"\"\n",
    "        @description:\n",
    "            Initial Network Setup\n",
    "        @arguments:\n",
    "        \n",
    "        \"\"\"\n",
    "        super(RNN, self).__init__()\n",
    "        self.l1 = nn.Linear(n_input, n_hidden)\n",
    "        self.l2 = nn.Linear(n_hidden, n_out)\n",
    "        self.hr = nn.Linear(n_hidden, n_hidden)\n",
    "\n",
    "\n",
    "    def forward(self, x):\n",
    "        \"\"\"\n",
    "        @description:\n",
    "            Feed-forward function\n",
    "        @arguments:\n",
    "            x (tensor) - input tensor\n",
    "        @returns:\n",
    "            y (tensor) - output tensor\n",
    "        \"\"\"\n",
    "        # ADD FEED-FORWARD EQUATIONS HERE\n",
    "        #y = torch.tensor(np.zeros((x.shape[0], x.shape[1], 1)))\n",
    "        y = torch.zeros([x.shape[0], x.shape[1], 1])\n",
    "        for i in range(0, x.shape[1]):\n",
    "            if i == 0:\n",
    "                self.h = torch.tanh(self.l1(x[:, i, :]))\n",
    "            else:\n",
    "                l = self.l1(x[:, i, :])\n",
    "                j = self.hr(self.h)\n",
    "                self.h = torch.tanh(l+j)\n",
    "            y[:, i, :] = self.l2(self.h)\n",
    "        return y        "
   ]
  },
  {
   "cell_type": "markdown",
   "metadata": {},
   "source": [
    "### Exercise 5: Setup and run (1 point)\n",
    "\n",
    "Try your simple `RNN` with the dynamic addition task. \n",
    "\n",
    "1. Define the model. `RNN` should have **2 hidden units**.\n",
    "1. Define the loss as the Mean Squared Error loss, and use an Adam optimizer.\n",
    "1. Train your model for several epochs on the data with `train_model`.\n",
    "1. Plot the train and validation losses. \n",
    "1. Test the trained model with `test_model` \n",
    "1. Plot at least one target time series together with the predicted time series\n",
    "\n",
    "Based on the losses and predictions, what would your conclusion be? Did the simple RNN learn the task? "
   ]
  },
  {
   "cell_type": "markdown",
   "metadata": {},
   "source": [
    "### Solution 5"
   ]
  },
  {
   "cell_type": "code",
   "execution_count": 13,
   "metadata": {},
   "outputs": [],
   "source": [
    "import timeit"
   ]
  },
  {
   "cell_type": "code",
   "execution_count": 14,
   "metadata": {},
   "outputs": [],
   "source": [
    "# ADD MODEL PARAMETERS HERE\n",
    "N_EPOCHS = 20"
   ]
  },
  {
   "cell_type": "code",
   "execution_count": 15,
   "metadata": {},
   "outputs": [],
   "source": [
    "# define model\n",
    "model = RNN(2, 2, 1) # ADD PARAMETERS HERE\n",
    "# define criterion (loss function)\n",
    "criterion = nn.MSELoss()\n",
    "# define optimizer\n",
    "optimizer = optim.Adam(model.parameters())"
   ]
  },
  {
   "cell_type": "code",
   "execution_count": 16,
   "metadata": {},
   "outputs": [
    {
     "name": "stdout",
     "output_type": "stream",
     "text": [
      "epoch 1: train_loss: 0.418 | val_loss: 0.411\n",
      "epoch 2: train_loss: 0.413 | val_loss: 0.406\n",
      "epoch 3: train_loss: 0.409 | val_loss: 0.401\n",
      "epoch 4: train_loss: 0.404 | val_loss: 0.397\n",
      "epoch 5: train_loss: 0.400 | val_loss: 0.393\n",
      "epoch 6: train_loss: 0.396 | val_loss: 0.389\n",
      "epoch 7: train_loss: 0.392 | val_loss: 0.385\n",
      "epoch 8: train_loss: 0.388 | val_loss: 0.382\n",
      "epoch 9: train_loss: 0.385 | val_loss: 0.378\n",
      "epoch 10: train_loss: 0.381 | val_loss: 0.375\n",
      "epoch 11: train_loss: 0.378 | val_loss: 0.372\n",
      "epoch 12: train_loss: 0.375 | val_loss: 0.369\n",
      "epoch 13: train_loss: 0.373 | val_loss: 0.366\n",
      "epoch 14: train_loss: 0.370 | val_loss: 0.364\n",
      "epoch 15: train_loss: 0.368 | val_loss: 0.362\n",
      "epoch 16: train_loss: 0.365 | val_loss: 0.360\n",
      "epoch 17: train_loss: 0.363 | val_loss: 0.358\n",
      "epoch 18: train_loss: 0.361 | val_loss: 0.356\n",
      "epoch 19: train_loss: 0.360 | val_loss: 0.354\n",
      "epoch 20: train_loss: 0.358 | val_loss: 0.352\n",
      "Total Training Time:  64.2903967\n"
     ]
    }
   ],
   "source": [
    "# start timer for training model\n",
    "start = timeit.default_timer()\n",
    "# train model\n",
    "model, train_loss, valid_loss = train_model(model, data, optimizer, criterion, N_EPOCHS)\n",
    "# stop timer\n",
    "stop = timeit.default_timer()\n",
    "print('Total Training Time: ', stop - start)  "
   ]
  },
  {
   "cell_type": "code",
   "execution_count": 17,
   "metadata": {},
   "outputs": [
    {
     "data": {
      "image/png": "[encoded data removed]",
      "text/plain": [
       "<Figure size 864x576 with 1 Axes>"
      ]
     },
     "metadata": {
      "needs_background": "light"
     },
     "output_type": "display_data"
    }
   ],
   "source": [
    "# plot losses\n",
    "plt.figure(figsize=(12,8))\n",
    "plt.plot(np.arange(0, N_EPOCHS), train_loss, 'g-', label='Training Loss')\n",
    "plt.plot(np.arange(0, N_EPOCHS), valid_loss, 'b-', label='Validation Loss')\n",
    "plt.xlabel('Epochs')\n",
    "plt.ylabel('Loss')\n",
    "plt.title('Model Training - Loss Visualization')\n",
    "plt.legend(loc='best')\n",
    "plt.show()"
   ]
  },
  {
   "cell_type": "code",
   "execution_count": 18,
   "metadata": {},
   "outputs": [],
   "source": [
    "# test model\n",
    "y_pred, y_true = test_model(model, data)"
   ]
  },
  {
   "cell_type": "code",
   "execution_count": null,
   "metadata": {},
   "outputs": [],
   "source": [
    "# plot time series\n",
    "\n",
    "# ADD HERE"
   ]
  },
  {
   "cell_type": "markdown",
   "metadata": {},
   "source": [
    "**Answer**: Add here"
   ]
  },
  {
   "cell_type": "markdown",
   "metadata": {},
   "source": [
    "### Exercise 6: LSTM RNN (2 points)\n",
    "\n",
    "Long-Short Term Memory (LSTM) units have more [powerful functionality](http://colah.github.io/posts/2015-08-Understanding-LSTMs/), such as selective forgetting, and they are able to keep track of long-term dependencies. This might be useful for the adding task. \n",
    "\n",
    "Implement the `LSTM` model:\n",
    "\n",
    "1. `lstm` should be an `LSTM` layer leading from the `n_input` inputs to the `n_hidden` hidden units.\n",
    "1. `fc` should be a fully-connected (linear) layer leading from the hidden units (output of `lstm`) to the `n_out` output units. \n",
    "1. The network does not make use of further activation functions. "
   ]
  },
  {
   "cell_type": "markdown",
   "metadata": {},
   "source": [
    "### Solution 6"
   ]
  },
  {
   "cell_type": "code",
   "execution_count": 19,
   "metadata": {},
   "outputs": [],
   "source": [
    "class LSTM(nn.Module):\n",
    "    \"\"\"\n",
    "    PyTorch Implementation of LSTM RNN\n",
    "    \"\"\"\n",
    "    def __init__(self, n_input, n_hidden, n_out):\n",
    "        \"\"\"\n",
    "        @description:\n",
    "            Initial Network Setup\n",
    "        @arguments:\n",
    "        \n",
    "        \"\"\"\n",
    "        super(LSTM, self).__init__()\n",
    "        self.lstm = nn.LSTM(n_input, n_hidden)\n",
    "        self.fc = nn.Linear(n_hidden, n_out)\n",
    "        # ADD LAYER COMPONENTS HERE\n",
    "    \n",
    "    def forward(self, x):\n",
    "        \"\"\"\n",
    "        @description:\n",
    "            Feed-forward function\n",
    "        @arguments:\n",
    "            x (tensor) - input tensor\n",
    "        @returns:\n",
    "            y (tensor) - output tensor\n",
    "        \"\"\"\n",
    "        # ADD FEED-FORWARD EQUATIONS HERE\n",
    "        lstm_out, self.hidden = self.lstm(x)\n",
    "        y = self.fc(lstm_out)\n",
    "        return y       "
   ]
  },
  {
   "cell_type": "markdown",
   "metadata": {
    "collapsed": true
   },
   "source": [
    "### Exercise 7: Setup and run (1 point)\n",
    "\n",
    "Try your `LSTM` model with the dynamic addition task. \n",
    "\n",
    "1. Define the model. `LSTM` should have **2 hidden units**.\n",
    "1. Define the loss as the Mean Squared Error loss, and use an Adam optimizer.\n",
    "1. Train your model for several epochs on the data with `train_model`.\n",
    "1. Plot the train and validation losses. \n",
    "1. Test the trained model with `test_model` \n",
    "1. Plot at least one target time series together with the predicted time series\n",
    "\n",
    "Did the LSTM network capture the task better? Did any of the two capture the task perfectly? Or are the two networks on par? "
   ]
  },
  {
   "cell_type": "markdown",
   "metadata": {},
   "source": [
    "### Solution 7"
   ]
  },
  {
   "cell_type": "code",
   "execution_count": 20,
   "metadata": {},
   "outputs": [],
   "source": [
    "# ADD MODEL PARAMETERS HERE\n",
    "N_EPOCHS = 20"
   ]
  },
  {
   "cell_type": "code",
   "execution_count": 21,
   "metadata": {},
   "outputs": [],
   "source": [
    "# define model\n",
    "model = LSTM(2, 2, 1) # ADD PARAMETERS HERE\n",
    "# define optimizer\n",
    "optimizer = optim.Adam(model.parameters())\n",
    "# define criterion (loss function)\n",
    "criterion = nn.MSELoss()"
   ]
  },
  {
   "cell_type": "code",
   "execution_count": 22,
   "metadata": {},
   "outputs": [
    {
     "name": "stdout",
     "output_type": "stream",
     "text": [
      "epoch 1: train_loss: 0.347 | val_loss: 0.341\n",
      "epoch 2: train_loss: 0.346 | val_loss: 0.340\n",
      "epoch 3: train_loss: 0.345 | val_loss: 0.339\n",
      "epoch 4: train_loss: 0.344 | val_loss: 0.338\n",
      "epoch 5: train_loss: 0.343 | val_loss: 0.337\n",
      "epoch 6: train_loss: 0.342 | val_loss: 0.336\n",
      "epoch 7: train_loss: 0.341 | val_loss: 0.335\n",
      "epoch 8: train_loss: 0.341 | val_loss: 0.335\n",
      "epoch 9: train_loss: 0.340 | val_loss: 0.334\n",
      "epoch 10: train_loss: 0.339 | val_loss: 0.333\n",
      "epoch 11: train_loss: 0.339 | val_loss: 0.333\n",
      "epoch 12: train_loss: 0.338 | val_loss: 0.332\n",
      "epoch 13: train_loss: 0.337 | val_loss: 0.332\n",
      "epoch 14: train_loss: 0.337 | val_loss: 0.331\n",
      "epoch 15: train_loss: 0.336 | val_loss: 0.331\n",
      "epoch 16: train_loss: 0.336 | val_loss: 0.330\n",
      "epoch 17: train_loss: 0.335 | val_loss: 0.330\n",
      "epoch 18: train_loss: 0.335 | val_loss: 0.329\n",
      "epoch 19: train_loss: 0.334 | val_loss: 0.329\n",
      "epoch 20: train_loss: 0.334 | val_loss: 0.328\n",
      "Total Training Time:  0.7886657999999898\n"
     ]
    }
   ],
   "source": [
    "# start timer for training model\n",
    "start = timeit.default_timer()\n",
    "# train model\n",
    "model, train_loss, valid_loss = train_model(model, data, optimizer, criterion, N_EPOCHS)\n",
    "# stop timer\n",
    "stop = timeit.default_timer()\n",
    "print('Total Training Time: ', stop - start)  "
   ]
  },
  {
   "cell_type": "code",
   "execution_count": 23,
   "metadata": {},
   "outputs": [
    {
     "data": {
      "image/png": "[encoded data removed]",
      "text/plain": [
       "<Figure size 864x576 with 1 Axes>"
      ]
     },
     "metadata": {
      "needs_background": "light"
     },
     "output_type": "display_data"
    }
   ],
   "source": [
    "# plot losses\n",
    "plt.figure(figsize=(12,8))\n",
    "plt.plot(np.arange(0, N_EPOCHS), train_loss, 'g-', label='Training Loss')\n",
    "plt.plot(np.arange(0, N_EPOCHS), valid_loss, 'b-', label='Validation Loss')\n",
    "plt.xlabel('Epochs')\n",
    "plt.ylabel('Loss')\n",
    "plt.title('Model Training - Loss Visualization')\n",
    "plt.legend(loc='best')\n",
    "plt.show()"
   ]
  },
  {
   "cell_type": "code",
   "execution_count": 24,
   "metadata": {},
   "outputs": [],
   "source": [
    "# test model\n",
    "y_pred, y_true = test_model(model, data)\n"
   ]
  },
  {
   "cell_type": "code",
   "execution_count": 25,
   "metadata": {},
   "outputs": [],
   "source": [
    "# plot time series\n",
    "\n",
    "# ADD HERE"
   ]
  },
  {
   "cell_type": "markdown",
   "metadata": {},
   "source": [
    "**Answer**: Add here"
   ]
  }
 ],
 "metadata": {
  "anaconda-cloud": {},
  "kernelspec": {
   "display_name": "Python 3",
   "language": "python",
   "name": "python3"
  },
  "language_info": {
   "codemirror_mode": {
    "name": "ipython",
    "version": 3
   },
   "file_extension": ".py",
   "mimetype": "text/x-python",
   "name": "python",
   "nbconvert_exporter": "python",
   "pygments_lexer": "ipython3",
   "version": "3.7.6"
  }
 },
 "nbformat": 4,
 "nbformat_minor": 1
}
