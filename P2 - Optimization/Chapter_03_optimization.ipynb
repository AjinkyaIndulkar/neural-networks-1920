{
 "cells": [
  {
   "cell_type": "markdown",
   "metadata": {},
   "source": [
    "# Chapter 3\n",
    "## Learning as optimization\n",
    "\n",
    "    Hand-in bug-free (try \"Kernel\" > \"Restart & Run All\") and including all (textual as well as figural) output via Brightspace before the deadline (see Brightspace).\n",
    "    \n",
    "Learning goals:\n",
    "1. get familiar with partial derivatives\n",
    "1. get familiar with gradient descent\n",
    "1. get familiar with the cross-entropy loss function\n",
    "1. get familiar with optimizing a one-layer neural network with gradient descent"
   ]
  },
  {
   "cell_type": "code",
   "execution_count": 1,
   "metadata": {},
   "outputs": [],
   "source": [
    "import matplotlib.pyplot as plt\n",
    "import numpy as np\n",
    "import scipy.io as sio\n",
    "from sklearn.model_selection import train_test_split\n",
    "from sklearn.metrics import accuracy_score"
   ]
  },
  {
   "cell_type": "markdown",
   "metadata": {
    "collapsed": true
   },
   "source": [
    "### Exercise 1: A simple parabola (0.25 points)\n",
    "Consider a simple parabola: $y=x^2$. Write a function `f(x)` that computes and returns $y$ given any $x$. Additionally, write a function `df(x)` that computes and returns the derivative of this parabola at any $x$. \n",
    "\n",
    "We will use these functions to find the minimum of $y$ with gradient descent. Of course, one could do so by setting the derivative to zero and solving the problem analytically. Note however, that in real-world cases (e.g., for complex neural networks), we usually can not find a closed form solution for finding the minimum of the derivative, analytically. "
   ]
  },
  {
   "cell_type": "code",
   "execution_count": 2,
   "metadata": {},
   "outputs": [],
   "source": [
    "def f(x):\n",
    "    \"\"\"\n",
    "    @description:\n",
    "        compute f(x): y = x^2\n",
    "    @arguments:\n",
    "        x (float) - input\n",
    "    @returns:\n",
    "        y (float) - f(x) output\n",
    "    \"\"\"\n",
    "    y = x**2\n",
    "    return y\n",
    "\n",
    "def df(x):\n",
    "    \"\"\"\n",
    "    @description:\n",
    "        compute f'(x) - derivative of f(x)\n",
    "        f'(x) = df(x)/dx = d(x^2)/dx = 2x\n",
    "    @arguments:\n",
    "        x (float) - input\n",
    "    @returns:\n",
    "        y (float) - f(x) output    \n",
    "    \"\"\"\n",
    "    dy = 2*x\n",
    "    return dy"
   ]
  },
  {
   "cell_type": "markdown",
   "metadata": {},
   "source": [
    "### Exercise 2: Gradient descent (1 point)\n",
    "Write a function `gradient_descent(function,derivative,x0,eta,n)` that performs gradient descent on $y=x^2$ from a given starting $x$ position $x_0$. It should use the given learning rate $\\eta$ and perform $n$ steps. Note that gradient descent has a very simple formula, based on the previous $x$ position. The function should save and return the trajectories for $x$ and $y$, as in the next exercise we want to observe what gradient descent does for different parameters. \n",
    "\n",
    "Note that we pass on the variables `function` and `gradients`. This is to make the `gradient_descent` function general for any function and its derivative. Hence, you can call `gradient_descent(f, df, x0, eta, n)` for `f` and `df` as defined above (i.e., in python you can use functions as variables)."
   ]
  },
  {
   "cell_type": "code",
   "execution_count": 3,
   "metadata": {},
   "outputs": [],
   "source": [
    "def gradient_descent(function, derivative, x0, eta, n):\n",
    "    \"\"\"\n",
    "    @description:\n",
    "        compute gradient descent\n",
    "    @arguments:\n",
    "        function (function) - f(x) function\n",
    "        derivative (function) - f'(x) function\n",
    "        x0 (float) - initial value of x\n",
    "        eta (float) - learning rate\n",
    "        n (int) - number of steps\n",
    "    @returns:\n",
    "        x (list) - trajectory of x after n steps of GD\n",
    "        y (list) - trajectory of y after n steps of GD\n",
    "    \"\"\"\n",
    "    new_x = x0\n",
    "    x = []\n",
    "    y = []\n",
    "    for i in range(n):\n",
    "        old_x = new_x\n",
    "        new_x = old_x - eta*derivative(old_x)\n",
    "        x.append(new_x)\n",
    "        y.append(function(new_x))\n",
    "    return x, y"
   ]
  },
  {
   "cell_type": "markdown",
   "metadata": {},
   "source": [
    "### Exercise 3: Very low learning rate (0.25 points)\n",
    "We want to show the gradient descent trajectories for different learning rates. Create a plot that shows the parabola $y=x^2$ in a reasonable range ($x \\in [-10,10]$ with reasonable decimal step sizes) and a marker for the starting point of gradient descent $(x_0, f(x_0))$. We use $x_0=-7.5$ and $n=50$. Plot $(x_t,f(x_t))$ at each step (i.e. the returned trajectories) for $\\eta=0.001$. What do you observe? Is this a good learning rate?"
   ]
  },
  {
   "cell_type": "markdown",
   "metadata": {},
   "source": [
    "### Solution 3"
   ]
  },
  {
   "cell_type": "code",
   "execution_count": 4,
   "metadata": {},
   "outputs": [
    {
     "data": {
      "image/png": "[encoded data removed]",
      "text/plain": [
       "<Figure size 576x432 with 1 Axes>"
      ]
     },
     "metadata": {
      "needs_background": "light"
     },
     "output_type": "display_data"
    }
   ],
   "source": [
    "# Run gradient descent, get gradient descent trajectory x and y\n",
    "x0 = -7.5\n",
    "eta = 0.001\n",
    "n = 50\n",
    "x, y = gradient_descent(f, df, x0, eta, n)\n",
    "\n",
    "# Plot parabola f(x), starting point, gradient descent trajectory (x vs. y)\n",
    "\n",
    "# create x range for calculating f(x)\n",
    "x_range = np.arange(-10, 11, 0.01)\n",
    "# plot figures\n",
    "plt.figure(figsize=(8,6))\n",
    "plt.plot(x_range, f(x_range), 'g-', label='parabola f(x)')\n",
    "plt.plot(x0, f(x0), 'ro', label='starting point')\n",
    "plt.plot(x, y, 'k.', label='GD trajectory')\n",
    "plt.xlabel('x')\n",
    "plt.ylabel('y')\n",
    "plt.title('Gradient Descent (learning rate=0.001)')\n",
    "plt.legend(loc='best')\n",
    "plt.show()"
   ]
  },
  {
   "cell_type": "markdown",
   "metadata": {},
   "source": [
    "The Gradient Descent function is unable to reach the global minimum of $f(x)$ as the learning rate is too slow. This is causing the step size (per iteration) in the direction of global minimum to be relatively small. If we increase the learning rate, convergence to the global minimum can be achieved.\n",
    "\n",
    "Hence, this is **not** a good learning rate."
   ]
  },
  {
   "cell_type": "markdown",
   "metadata": {},
   "source": [
    "### Exercise 4: Low learning rate (0.25 points)\n",
    "Now, do exactly the same, but this time with $\\eta=0.05$. What do you observe? Is this a good learning rate?"
   ]
  },
  {
   "cell_type": "markdown",
   "metadata": {},
   "source": [
    "### Solution 4"
   ]
  },
  {
   "cell_type": "code",
   "execution_count": 5,
   "metadata": {},
   "outputs": [
    {
     "data": {
      "image/png": "[encoded data removed]",
      "text/plain": [
       "<Figure size 576x432 with 1 Axes>"
      ]
     },
     "metadata": {
      "needs_background": "light"
     },
     "output_type": "display_data"
    }
   ],
   "source": [
    "# Run gradient descent, get gradient descent trajectory x and y\n",
    "x0 = -7.5\n",
    "eta = 0.05\n",
    "n = 50\n",
    "x, y = gradient_descent(f, df, x0, eta, n)\n",
    "\n",
    "# Plot parabola f(x), starting point, gradient descent trajectory (x vs. y)\n",
    "\n",
    "# create x range for calculating f(x)\n",
    "x_range = np.arange(-10, 11, 0.01)\n",
    "# plot figures\n",
    "plt.figure(figsize=(8,6))\n",
    "plt.plot(x_range, f(x_range), 'g-', label='parabola f(x)')\n",
    "plt.plot(x0, f(x0), 'ro', label='starting point')\n",
    "plt.plot(x, y, 'k.', label='GD trajectory')\n",
    "plt.xlabel('x')\n",
    "plt.ylabel('y')\n",
    "plt.title('Gradient Descent (learning rate=0.001)')\n",
    "plt.legend(loc='best')\n",
    "plt.show()"
   ]
  },
  {
   "cell_type": "markdown",
   "metadata": {},
   "source": [
    "The Gradient Descent function is able to almost reach the global minimum of $f(x)$. The Gradient Descent takes big steps at first but the step size decreases as it moves closer to the global minimum. If we increase the number of iterations, convergence to the global minimum can be achieved.\n",
    "\n",
    "Hence, this is a good learning rate compared to $\\eta=0.001$."
   ]
  },
  {
   "cell_type": "markdown",
   "metadata": {},
   "source": [
    "### Exercise 5: High learning rate (0.25 points)\n",
    "Now, do exactly the same, but this time with $\\eta=0.99$. What do you observe? Is this a good learning rate?"
   ]
  },
  {
   "cell_type": "markdown",
   "metadata": {},
   "source": [
    "### Solution 5"
   ]
  },
  {
   "cell_type": "code",
   "execution_count": 6,
   "metadata": {},
   "outputs": [
    {
     "data": {
      "image/png": "[encoded data removed]",
      "text/plain": [
       "<Figure size 576x432 with 1 Axes>"
      ]
     },
     "metadata": {
      "needs_background": "light"
     },
     "output_type": "display_data"
    }
   ],
   "source": [
    "# Run gradient descent, get gradient descent trajectory x and y\n",
    "x0 = -7.5\n",
    "eta = 0.99\n",
    "n = 50\n",
    "x, y = gradient_descent(f, df, x0, eta, n)\n",
    "\n",
    "# Plot parabola f(x), starting point, gradient descent trajectory (x vs. y)\n",
    "\n",
    "# create x range for calculating f(x)\n",
    "x_range = np.arange(-10, 11, 0.01)\n",
    "# plot figures\n",
    "plt.figure(figsize=(8,6))\n",
    "plt.plot(x_range, f(x_range), 'g-', label='parabola f(x)')\n",
    "plt.plot(x0, f(x0), 'ro', label='starting point')\n",
    "plt.plot(x, y, 'k.', label='GD trajectory')\n",
    "plt.xlabel('x')\n",
    "plt.ylabel('y')\n",
    "plt.title('Gradient Descent (learning rate=0.001)')\n",
    "plt.legend(loc='best')\n",
    "plt.show()"
   ]
  },
  {
   "cell_type": "markdown",
   "metadata": {},
   "source": [
    "The Gradient Descent function is unable to reach the global minimum of $f(x)$ as the Gradient Descent overshoots in its steps and misses the global minimum. If we decrease the learning rate, convergence to the global minimum can be achieved.\n",
    "\n",
    "Hence, this is **not** a good learning rate."
   ]
  },
  {
   "cell_type": "markdown",
   "metadata": {},
   "source": [
    "### Exercise 6: Very high learning rate (0.25 points)\n",
    "Now, do exactly the same, but this time with $\\eta=1.01$. What do you observe? Is this a good learning rate?"
   ]
  },
  {
   "cell_type": "markdown",
   "metadata": {},
   "source": [
    "### Solution 6"
   ]
  },
  {
   "cell_type": "code",
   "execution_count": 7,
   "metadata": {
    "scrolled": false
   },
   "outputs": [
    {
     "data": {
      "image/png": "[encoded data removed]",
      "text/plain": [
       "<Figure size 576x432 with 1 Axes>"
      ]
     },
     "metadata": {
      "needs_background": "light"
     },
     "output_type": "display_data"
    }
   ],
   "source": [
    "# Run gradient descent, get gradient descent trajectory x and y\n",
    "x0 = -7.5\n",
    "eta = 1.01\n",
    "n = 50\n",
    "x, y = gradient_descent(f, df, x0, eta, n)\n",
    "\n",
    "# Plot parabola f(x), starting point, gradient descent trajectory (x vs. y)\n",
    "\n",
    "# create x range for calculating f(x)\n",
    "x_range = np.arange(-10, 11, 0.01)\n",
    "# plot figures\n",
    "plt.figure(figsize=(8,6))\n",
    "plt.plot(x_range, f(x_range), 'g-', label='parabola f(x)')\n",
    "plt.plot(x0, f(x0), 'ro', label='starting point')\n",
    "plt.plot(x, y, 'k.', label='GD trajectory')\n",
    "plt.xlabel('x')\n",
    "plt.ylabel('y')\n",
    "plt.title('Gradient Descent (learning rate=0.001)')\n",
    "plt.legend(loc='best')\n",
    "plt.show()"
   ]
  },
  {
   "cell_type": "markdown",
   "metadata": {},
   "source": [
    "We see that the the trajectory actually diverges instead of converges. We move further away from the minimum.\n",
    "\n",
    "Hence, this is **not** a good learning rate."
   ]
  },
  {
   "cell_type": "markdown",
   "metadata": {},
   "source": [
    "### Exercise 7: Cross-entropy loss (1 point)\n",
    "The cross-entropy loss is a common loss function used for classification, and is given by:\n",
    "$$L = \\frac{1}{N} \\sum^N - t^{(n)}\\log(y^{(n)}) - (1 - t^{(n)})\\log(1 - y^{(n)})$$\n",
    "Here, $t^{(n)}$ is the target (real value) which is either 0 or 1, and $y^{(n)}$ the prediction of the $n$th example is a continues value between 0 and 1 (output of a sigmoid activation).\n",
    "\n",
    "The cross-entropy loss is low (towards zero) when the MLP is precisely right (true negatives, true positives). It is high (towards infinity) when the MLP is all wrong (false negatives, false positives). Read and understand the function to verify that this is indeed the case (i.e. what happens when $y\\neq t$ and when $y=t$). \n",
    "\n",
    "We need the derivative of the cross-entropy loss function with respect to $y$ to do gradient descent (i.e., backpropagation) to tweak the parameters (i.e., the weights) for classification. Derive the cross-entropy loss function with respect to $y$, i.e. derive $\\frac{\\partial L}{\\partial y}$. You can ignore the sum over the batch; use: $L = -t \\log(y) - (1 - t)\\log(1 - y)$. Simplify the derivation as much as possible (i.e. to one fraction of two terms). "
   ]
  },
  {
   "cell_type": "markdown",
   "metadata": {},
   "source": [
    "### Solution 7:\n",
    "$\\LaTeX$ here."
   ]
  },
  {
   "cell_type": "markdown",
   "metadata": {},
   "source": [
    "### Exercise 8: The sigmoid activation function (1 point)\n",
    "The network you are about to implement should use a sigmoid activation function in its output unit. The sigmoid activation function is an activation function that squeezes its input into the range of 0 and 1. This is convenient, especially as $y$ at the output, and also somewhat interpretable as a probability for a certain class. The sigmoid is given by:\n",
    "\n",
    "$$f(a) = \\frac{1}{1+\\exp(-a)}$$\n",
    "\n",
    "Derive the derivative of the sigmoid activation function with respect to the activation $a$, and show that the derivative is equal to a combination of two sigmoids: \n",
    "\n",
    "$$\\frac{\\partial f(a)}{\\partial a} = \\frac{\\partial y}{\\partial a} = f(a)(1 - f(a))$$\n",
    "\n",
    "This simple derivative is another convenient property of the sigmoid activation function."
   ]
  },
  {
   "cell_type": "markdown",
   "metadata": {},
   "source": [
    "### Solution 8\n",
    "$\\LaTeX$ here."
   ]
  },
  {
   "cell_type": "markdown",
   "metadata": {},
   "source": [
    "### Exercise 9: The forward pass (0.5 points)\n",
    "We are going to build a one-layer network to classify digits. The inputs $x$ are images of handwritten digits. Here, we restrict the problem to binary classification, so we classify only two possible digits (0 and 1). This means that we need only one a single output unit $y$. \n",
    "\n",
    "In the forward pass the input $x$ is weighted by one layer of weights $w$. Then this activation $a$ is passed on into the sigmoid unit activation function, producing $y$. \n",
    "\n",
    "Write down the equations for the activation $a$ and the output $y$."
   ]
  },
  {
   "cell_type": "markdown",
   "metadata": {},
   "source": [
    "### Solution 9:\n",
    "$\\LaTeX$ here.\n",
    "\n",
    "\\begin{eqnarray*}\n",
    "a &=&  \\\\\n",
    "y &=&  \\\\\n",
    "\\end{eqnarray*}"
   ]
  },
  {
   "cell_type": "markdown",
   "metadata": {},
   "source": [
    "### Exercise 10: The backward pass (1 point)\n",
    "\n",
    "To update the weights so that the loss is further reduced (i.e. to gradually let the network learn to do the right thing), we need the partial derivatives of the weights. To compute the partial derivatives of the weights $w$, we have to propagate from the error function back through the activation function to the weights. Note that we do not have to handle any hidden units and their activations in this one-layer network. \n",
    "\n",
    "Obtain $\\frac{\\partial L}{\\partial w}$ by applying the chain rule multiple times. Note that $L$ is the cross-entropy loss, that you have already derived $\\frac{\\partial L}{\\partial y}$ and $\\frac{\\partial y}{\\partial a}$ further above, and that $\\frac{\\partial a}{\\partial w}$ has a trivial derivative. Simplify $\\frac{\\partial L}{\\partial w}$ as much as possible. You can cancel out quite a few terms, leading to a very simple expression if you realize that $f(a)=y$ in our network. "
   ]
  },
  {
   "cell_type": "markdown",
   "metadata": {},
   "source": [
    "### Solution 10:\n",
    "$\\LaTeX$ here."
   ]
  },
  {
   "cell_type": "markdown",
   "metadata": {},
   "source": [
    "### Exercise 11: Implementation (2.25 points)\n",
    "Now that all the math is done, we can start implementing the one-layer network for binary classification of two digits, where we make use of sigmoid units and the cross-entropy loss. Write the following functions:\n",
    "1. `cross_entropy(Y, T)`: Computes the cross entropy loss. Make sure that there are no exact-zero inputs for `np.log()` (something simple like adding a very small number if `Y` equals 0; or removing it if `Y` is exactly 1 is fine. Check how to select a subset of a numpy array with a conditional like `Y[Y==S]`). \n",
    "1. `sigmoid(A)`: Passes the activity `A` through the sigmoid activation function.\n",
    "1. `linear(X, W)`: Computes the activities `A` as `X` weighted by `W`.\n",
    "1. `forward(X, W)`: Computes the forward pass for the one-layer network with a sigmoid output unit. Returns `Y`. \n",
    "1. `backward(X, Y, T)`: Computes the backward pass for the one-layer network with a sigmoid output unit and cross-entropy loss. The partial derivatives $\\frac{\\partial L}{\\partial w}$ should be averaged over the number of training examples. \n",
    "1. `train_network(X_train, T_train, X_val, T_val, n_epochs, eta)`: Implement the training procedure (train the model on training data, and evaluate on both training and validation data). See the skeleton code for some help.\n",
    "1. `test_network(X, W)`: Predicts new examples given as `X`, returns classes as a binary label vector (for classes 0 and 1). Interpret the output of the network (the sigmoid) as a probability for class 1 and transform these probabilities to this binary label vector."
   ]
  },
  {
   "cell_type": "markdown",
   "metadata": {},
   "source": [
    "### Solution 11"
   ]
  },
  {
   "cell_type": "code",
   "execution_count": 8,
   "metadata": {},
   "outputs": [],
   "source": [
    "def cross_entropy(Y, T):\n",
    "    \"\"\"\n",
    "    Computes the cross-entropy loss.\n",
    "    INPUT:\n",
    "        Y = [1 N] output vector for N examples\n",
    "        T = [1 N] tagret vector for N examples\n",
    "    OUTPUTS\n",
    "        L = [flt] the mean cross-entropy loss\n",
    "    \"\"\"\n",
    "    Y[Y==0] += 0.001\n",
    "    Y[Y==1] -= 0.001\n",
    "    cr_ent = -T*np.log(Y) - (1-T)*np.log(1-Y)\n",
    "    L = cr_ent.sum()/cr_ent.shape[0]\n",
    "    return L"
   ]
  },
  {
   "cell_type": "code",
   "execution_count": 9,
   "metadata": {},
   "outputs": [],
   "source": [
    "def sigmoid(A):\n",
    "    \"\"\"\n",
    "    Computes the sigmoid activation function.\n",
    "    INPUT:\n",
    "        A = [1 N] activity vector of 1 unit for N examples\n",
    "    OUTPUT\n",
    "        Y = [1 N] output matrix of 1 unit for N examples\n",
    "    \"\"\"\n",
    "    Y = 1/(1+np.exp(-A))\n",
    "    return Y"
   ]
  },
  {
   "cell_type": "code",
   "execution_count": 10,
   "metadata": {},
   "outputs": [],
   "source": [
    "def linear(X, W):\n",
    "    \"\"\"\n",
    "    Computes the activities for a fully connected layer.\n",
    "    INPUT:\n",
    "        X = [P N] data matrix of P input units for N examples\n",
    "        W = [1 P] weight vector of P inputs to 1 output unit\n",
    "    OUTPUT\n",
    "        A = [1 N] activity vector of 1 output unit for N examples\n",
    "    \"\"\"\n",
    "    # compute dot product\n",
    "    A = np.dot(W,X)\n",
    "    return A"
   ]
  },
  {
   "cell_type": "code",
   "execution_count": 11,
   "metadata": {},
   "outputs": [],
   "source": [
    "def forward(X, W):\n",
    "    \"\"\"\n",
    "    Computes the forward pass for a one-layer network with sigmoid units.\n",
    "    INPUT\n",
    "        X = [P N] data matrix of P inputs for N examples\n",
    "        W = [1 P] weight matrix of the first layer of P inputs to 1 output\n",
    "    OUTPUT\n",
    "        Y = [1 N] output vector for N examples\n",
    "    \"\"\"\n",
    "    # compute activities\n",
    "    A = linear(X, W)\n",
    "    # pass through activation function\n",
    "    Y = sigmoid(A)\n",
    "    return Y"
   ]
  },
  {
   "cell_type": "code",
   "execution_count": 12,
   "metadata": {},
   "outputs": [],
   "source": [
    "def backward(X, Y, T):\n",
    "    \"\"\"\n",
    "    Computes the backward pass for a one-layer network with sigmoid units and cross-entropy loss.\n",
    "    INPUT:\n",
    "        X  = [P N] data matrix of P inputs for N examples\n",
    "        Y  = [1 N] a vector of predictions for N examples\n",
    "        T  = [1 N] a vector of targets for N examples\n",
    "    OUTPUT\n",
    "        dW = [1 P] gradient matrix for the weights of P inputs to 1 output\n",
    "    \"\"\"\n",
    "    dY = (Y - T)\n",
    "    dW = np.dot(dY, X.T)\n",
    "    return dW"
   ]
  },
  {
   "cell_type": "code",
   "execution_count": 13,
   "metadata": {},
   "outputs": [],
   "source": [
    "def train_network(X_train, T_train, X_val, T_val, n_epochs=500, eta=10**-3):\n",
    "    \"\"\"\n",
    "    Performs the training procedure for a one-layer network with sigmoid units and cross-entropy loss.\n",
    "    INPUT:\n",
    "        X_train  = [P N] data matrix of P inputs for N training examples\n",
    "        T_train  = [1 N] a vector of targets for N training examples \n",
    "                   (labels for digits 0 or 1; given as numbers 0 or 1)\n",
    "        X_val    = [P M] data matrix of P inputs for N validation examples\n",
    "        T_val    = [1 M] a vector of targets for N validation examples\n",
    "        n_epochs = [int] number of training epochs (default 500)\n",
    "        eta      = [flt] learning rate (default 10^-3)\n",
    "    OUTPUT:\n",
    "        W          = [1 P] the learned weights of P inputs to 1 outputs\n",
    "        train_loss = [Z 1] the training loss for Z epochs\n",
    "        val_loss   = [Z 1] the validation loss for Z epochs\n",
    "    \"\"\"\n",
    "    \n",
    "    # Weight initialization from P input units to 1 output unit\n",
    "    W = np.random.randn(1, X_train.shape[0])\n",
    "    \n",
    "    # Arrays for saving losses\n",
    "    train_loss = np.zeros((n_epochs))\n",
    "    val_loss = np.zeros((n_epochs))\n",
    "\n",
    "    # Loop over epochs\n",
    "    for i_epoch in range(n_epochs):\n",
    "        \n",
    "        # Forward pass for current network (i.e. with current W)\n",
    "        # (obtaining Y_train, and also once to obtain Y_val)\n",
    "        Y_train = forward(X_train, W)\n",
    "        Y_val = forward(X_val, W)\n",
    "        \n",
    "        # Backward pass\n",
    "        # (obtaining dW)\n",
    "        dW = backward(X_train, Y_train, T_train)\n",
    "        \n",
    "        # Parameter update\n",
    "        # (adjusting W with given learning rate)\n",
    "        W = W - eta*dW\n",
    "        \n",
    "        # Save losses for train and validation set with the new weights set (compute with cross entropy loss function)\n",
    "        train_loss[i_epoch] = cross_entropy(Y_train, T_train)\n",
    "        val_loss[i_epoch] = cross_entropy(Y_val, T_val)\n",
    "        \n",
    "        # Print progress and loss\n",
    "        if i_epoch % 10 == 0:\n",
    "            print(\"Epoch {}/{}. Train loss: {:.3f}. Validation loss: {:.3f}.\".format(\n",
    "                1+i_epoch, n_epochs, train_loss[i_epoch], val_loss[i_epoch]))\n",
    "        \n",
    "    return W, train_loss, val_loss"
   ]
  },
  {
   "cell_type": "code",
   "execution_count": 14,
   "metadata": {},
   "outputs": [],
   "source": [
    "def test_network(X, W):\n",
    "    \"\"\"\n",
    "    Applies the trained one-layer network with sigmoid units to classify data.\n",
    "    INPUT:\n",
    "        X = [P N] data matrix of P inputs for N examples\n",
    "        W = [1 P] weight matrix of P inputs to 1 output\n",
    "    OUTPUT\n",
    "        classes = [1 N] predicted labels for N examples\n",
    "    \"\"\"\n",
    "    # compute Y with forward pass\n",
    "    Y = forward(X, W)\n",
    "    # predict label using threshold of 0.5\n",
    "    classes = (Y>0.5).astype(int)\n",
    "    return classes"
   ]
  },
  {
   "cell_type": "markdown",
   "metadata": {},
   "source": [
    "### Exercise 12: Training (1 point)\n",
    "Now that we have done all the work, we can finally run the network. Below we first load in the digit dataset, and restrict it to two digits. We split this data into a training and a test set. \n",
    "\n",
    "Train your network on the training dataset `X_train` and `T_train`, and validate it at each epoch on the test set `X_val` and `T_val`. After training, plot the train and validation losses over epochs (as returned by `train_network()`. Train it for 500 epochs with a learning rate $\\eta=0.05$. "
   ]
  },
  {
   "cell_type": "code",
   "execution_count": 15,
   "metadata": {},
   "outputs": [],
   "source": [
    "# Read full dataset from mat file\n",
    "mat = sio.loadmat(\"digits.mat\")\n",
    "X = mat[\"digits\"]\n",
    "T = np.array([1, 2, 3, 4, 5, 6, 7, 8, 9, 0]).repeat(1000)\n",
    "sz = (28, 28)"
   ]
  },
  {
   "cell_type": "code",
   "execution_count": 16,
   "metadata": {},
   "outputs": [],
   "source": [
    "# Select only digits 0 and 1 for binary classification\n",
    "digits = np.array([0, 1])\n",
    "idx = np.in1d(T, digits)\n",
    "X = X[:, idx]\n",
    "T = np.array([0, 1]).repeat(1000)  # class labels given as 0 and 1 then"
   ]
  },
  {
   "cell_type": "code",
   "execution_count": 17,
   "metadata": {},
   "outputs": [
    {
     "data": {
      "text/plain": [
       "<matplotlib.image.AxesImage at 0x13049cd50>"
      ]
     },
     "execution_count": 17,
     "metadata": {},
     "output_type": "execute_result"
    },
    {
     "data": {
      "image/png": "[encoded data removed]",
      "text/plain": [
       "<Figure size 432x288 with 2 Axes>"
      ]
     },
     "metadata": {
      "needs_background": "light"
     },
     "output_type": "display_data"
    }
   ],
   "source": [
    "# Plot an example of both classes\n",
    "fig, ax = plt.subplots(1, 2)\n",
    "ax[0].imshow(X[:, 0].reshape(sz).T, cmap=\"gray\")\n",
    "ax[1].imshow(X[:, 1000].reshape(sz).T, cmap=\"gray\")"
   ]
  },
  {
   "cell_type": "code",
   "execution_count": 18,
   "metadata": {},
   "outputs": [
    {
     "name": "stdout",
     "output_type": "stream",
     "text": [
      "Dimensions training inputs: (784, 1280), and training outputs: (1, 1280)\n",
      "Dimensions validation inputs: (784, 320), and validation outputs: (1, 320)\n",
      "Dimensions testing inputs: (784, 400), and testing outputs: (1, 400)\n"
     ]
    }
   ],
   "source": [
    "# Split dataset in training, validation, and testing split\n",
    "X_train, X_test, T_train, T_test = train_test_split(X.T, T, test_size=0.2)\n",
    "X_train, X_val, T_train, T_val = train_test_split(X_train, T_train, test_size=0.2)\n",
    "\n",
    "# Transpose back\n",
    "X_train = X_train.T\n",
    "X_val = X_val.T\n",
    "X_test = X_test.T\n",
    "\n",
    "T_train = T_train.reshape((1, T_train.size))\n",
    "T_val = T_val.reshape((1, T_val.size))\n",
    "T_test = T_test.reshape((1, T_test.size))\n",
    "\n",
    "\n",
    "# Print dimensions\n",
    "print(\"Dimensions training inputs: {}, and training outputs: {}\".format(X_train.shape, T_train.shape))\n",
    "print(\"Dimensions validation inputs: {}, and validation outputs: {}\".format(X_val.shape, T_val.shape))\n",
    "print(\"Dimensions testing inputs: {}, and testing outputs: {}\".format(X_test.shape, T_test.shape))"
   ]
  },
  {
   "cell_type": "markdown",
   "metadata": {},
   "source": [
    "### Solution 12"
   ]
  },
  {
   "cell_type": "code",
   "execution_count": 19,
   "metadata": {
    "scrolled": false
   },
   "outputs": [
    {
     "name": "stdout",
     "output_type": "stream",
     "text": [
      "Epoch 1/500. Train loss: 2763.146. Validation loss: 760.819.\n",
      "Epoch 11/500. Train loss: 81.742. Validation loss: 8.885.\n",
      "Epoch 21/500. Train loss: 37.983. Validation loss: 3.302.\n",
      "Epoch 31/500. Train loss: 25.142. Validation loss: 2.078.\n",
      "Epoch 41/500. Train loss: 19.913. Validation loss: 1.566.\n",
      "Epoch 51/500. Train loss: 17.096. Validation loss: 1.278.\n",
      "Epoch 61/500. Train loss: 15.225. Validation loss: 1.092.\n",
      "Epoch 71/500. Train loss: 13.822. Validation loss: 0.966.\n",
      "Epoch 81/500. Train loss: 12.705. Validation loss: 0.876.\n",
      "Epoch 91/500. Train loss: 11.780. Validation loss: 0.808.\n",
      "Epoch 101/500. Train loss: 10.989. Validation loss: 0.755.\n",
      "Epoch 111/500. Train loss: 10.294. Validation loss: 0.712.\n",
      "Epoch 121/500. Train loss: 9.664. Validation loss: 0.676.\n",
      "Epoch 131/500. Train loss: 9.083. Validation loss: 0.645.\n",
      "Epoch 141/500. Train loss: 8.539. Validation loss: 0.618.\n",
      "Epoch 151/500. Train loss: 8.024. Validation loss: 0.594.\n",
      "Epoch 161/500. Train loss: 7.531. Validation loss: 0.571.\n",
      "Epoch 171/500. Train loss: 7.059. Validation loss: 0.550.\n",
      "Epoch 181/500. Train loss: 6.604. Validation loss: 0.530.\n",
      "Epoch 191/500. Train loss: 6.167. Validation loss: 0.512.\n",
      "Epoch 201/500. Train loss: 5.745. Validation loss: 0.493.\n",
      "Epoch 211/500. Train loss: 5.343. Validation loss: 0.474.\n",
      "Epoch 221/500. Train loss: 4.959. Validation loss: 0.456.\n",
      "Epoch 231/500. Train loss: 4.597. Validation loss: 0.438.\n",
      "Epoch 241/500. Train loss: 4.259. Validation loss: 0.419.\n",
      "Epoch 251/500. Train loss: 3.947. Validation loss: 0.401.\n",
      "Epoch 261/500. Train loss: 3.661. Validation loss: 0.383.\n",
      "Epoch 271/500. Train loss: 3.402. Validation loss: 0.365.\n",
      "Epoch 281/500. Train loss: 3.169. Validation loss: 0.347.\n",
      "Epoch 291/500. Train loss: 2.959. Validation loss: 0.330.\n",
      "Epoch 301/500. Train loss: 2.770. Validation loss: 0.314.\n",
      "Epoch 311/500. Train loss: 2.601. Validation loss: 0.299.\n",
      "Epoch 321/500. Train loss: 2.451. Validation loss: 0.286.\n",
      "Epoch 331/500. Train loss: 2.314. Validation loss: 0.273.\n",
      "Epoch 341/500. Train loss: 2.191. Validation loss: 0.261.\n",
      "Epoch 351/500. Train loss: 2.080. Validation loss: 0.250.\n",
      "Epoch 361/500. Train loss: 1.979. Validation loss: 0.240.\n",
      "Epoch 371/500. Train loss: 1.887. Validation loss: 0.231.\n",
      "Epoch 381/500. Train loss: 1.803. Validation loss: 0.223.\n",
      "Epoch 391/500. Train loss: 1.726. Validation loss: 0.215.\n",
      "Epoch 401/500. Train loss: 1.655. Validation loss: 0.208.\n",
      "Epoch 411/500. Train loss: 1.591. Validation loss: 0.203.\n",
      "Epoch 421/500. Train loss: 1.532. Validation loss: 0.197.\n",
      "Epoch 431/500. Train loss: 1.476. Validation loss: 0.191.\n",
      "Epoch 441/500. Train loss: 1.424. Validation loss: 0.186.\n",
      "Epoch 451/500. Train loss: 1.376. Validation loss: 0.181.\n",
      "Epoch 461/500. Train loss: 1.330. Validation loss: 0.176.\n",
      "Epoch 471/500. Train loss: 1.288. Validation loss: 0.172.\n",
      "Epoch 481/500. Train loss: 1.250. Validation loss: 0.168.\n",
      "Epoch 491/500. Train loss: 1.214. Validation loss: 0.165.\n"
     ]
    },
    {
     "data": {
      "image/png": "[encoded data removed]",
      "text/plain": [
       "<Figure size 864x576 with 1 Axes>"
      ]
     },
     "metadata": {
      "needs_background": "light"
     },
     "output_type": "display_data"
    }
   ],
   "source": [
    "# Train network\n",
    "W, train_loss, val_loss = train_network(X_train, T_train, X_val, T_val, n_epochs=500, eta=10**-3)\n",
    "\n",
    "# Plot losses\n",
    "plt.figure(figsize=(12,8))\n",
    "plt.plot(np.arange(0, 500, 1), train_loss, 'g-', label='Training Loss')\n",
    "plt.plot(np.arange(0, 500, 1), val_loss, 'b-', label='Validation Loss')\n",
    "plt.xlabel('x')\n",
    "plt.ylabel('y')\n",
    "plt.title('Model Training - Loss Visualization')\n",
    "plt.legend(loc='best')\n",
    "plt.show()"
   ]
  },
  {
   "cell_type": "markdown",
   "metadata": {},
   "source": [
    "### Exercise 13: Testing (1 point)\n",
    "Now that the network is trained, we can obtain a test score on a held out test set, and compute a classification performance. Apply your network to the test set, and print its accuracy (=the percentage of correctly classified test examples).\n",
    "\n",
    "Note that if you don't avoid looking at another separate test set during training your network you may accidentally overfit on your validation set, e.g. by hyperparameter choices. This is a common problem in machine learning literature.\n",
    "\n",
    "Also note that by implementing this specific type of architecture for neural networks (i.e., one weight layer, one output, sigmoid activation function for binary classification outputs), you have actually implemented logistic regression!"
   ]
  },
  {
   "cell_type": "markdown",
   "metadata": {},
   "source": [
    "### Solution 13"
   ]
  },
  {
   "cell_type": "code",
   "execution_count": 20,
   "metadata": {},
   "outputs": [
    {
     "name": "stdout",
     "output_type": "stream",
     "text": [
      "Test Accuracy: 99.50%\n"
     ]
    }
   ],
   "source": [
    "# Test network\n",
    "T_pred = test_network(X_test, W)\n",
    "\n",
    "# Print accuracy\n",
    "test_acc = (T_test == T_pred).sum()/T_test.size\n",
    "print(\"Test Accuracy: {:.2f}%\".format(test_acc*100))"
   ]
  }
 ],
 "metadata": {
  "anaconda-cloud": {},
  "kernelspec": {
   "display_name": "Python 3",
   "language": "python",
   "name": "python3"
  },
  "language_info": {
   "codemirror_mode": {
    "name": "ipython",
    "version": 3
   },
   "file_extension": ".py",
   "mimetype": "text/x-python",
   "name": "python",
   "nbconvert_exporter": "python",
   "pygments_lexer": "ipython3",
   "version": "3.7.6"
  }
 },
 "nbformat": 4,
 "nbformat_minor": 2
}
