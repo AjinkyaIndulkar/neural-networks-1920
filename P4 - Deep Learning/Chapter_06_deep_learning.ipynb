{
 "cells": [
  {
   "cell_type": "markdown",
   "metadata": {},
   "source": [
    "##### Author contributions\n",
    "Please fill out for each of the following parts who contributed to what:\n",
    "- Conceived ideas: \n",
    "- Performed math exercises: - (there are no math exercises this time)\n",
    "- Performed programming exercises:\n",
    "- Contributed to the overall final assignment: "
   ]
  },
  {
   "cell_type": "markdown",
   "metadata": {},
   "source": [
    "# Chapter 6\n",
    "## Deep learning\n",
    "\n",
    "\n",
    "    Hand-in bug-free (try \"Kernel\" > \"Restart & Run All\") and including all (textual as well as figural) output via Brightspace before the deadline (see Brightspace).\n",
    "\n",
    "Learning goals:\n",
    "1. Get familiar with a state-of-the-art module for deep learning\n",
    "1. Implement and run a multilayer neural network in PyTorch\n",
    "1. Understand convolution\n",
    "1. Implement and run a convolutional neural network in PyTorch"
   ]
  },
  {
   "cell_type": "code",
   "execution_count": 5,
   "metadata": {},
   "outputs": [],
   "source": [
    "import matplotlib.pyplot as plt\n",
    "from scipy import signal as ss\n",
    "import scipy.io as sio\n",
    "import numpy as np\n",
    "import torch\n",
    "import torch.nn as nn\n",
    "import torch.nn.functional as F\n",
    "import torch.optim as optim\n",
    "import torchvision\n",
    "import torchvision.transforms as transforms\n",
    "from sklearn.model_selection import train_test_split"
   ]
  },
  {
   "cell_type": "markdown",
   "metadata": {},
   "source": [
    "It might occur that the above imports throw an error, saying `torch` is an unknown module. If so, you have not yet installed `pytorch` properly. Do so by opening a terminal and installing it by calling `conda install pytorch torchvision -c pytorch` (i.e., see https://pytorch.org/get-started/locally/).\n",
    "\n",
    "When working on a state-of-the-art neural network project you will rely on one of the various neural network frameworks that are available, instead of implementing core functionality by yourself. In this exercise you will work on implementing an MLP and a CNN in the PyTorch framework. \n",
    "\n",
    "To get familiar with PyTorch, read the tutorial at https://pytorch.org/tutorials/beginner/deep_learning_60min_blitz.html. It is a good introduction to PyTorch including setting up data, defining a model, and training a model. "
   ]
  },
  {
   "cell_type": "markdown",
   "metadata": {},
   "source": [
    "### Exercise 1: MNIST data (1 point)\n",
    "We will use the MNIST dataset (handwritten digets) for this assignment. The dataset is a very standard and commonly used benchmark dataset. In this assignment, we will only work with a training and validation dataset. Normally, one would also have a testing dataset, but we will ignore this in this assignment.\n",
    "1. Load the *MNIST* dataset. Use a training and a validation dataset.\n",
    "1. Define training and validation data iterators and use a specific batchsize.\n",
    "1. Inspect the training and validation data by printing (1) the amount of samples in each set and (2) the shape of a data sample.\n",
    "1. Inspect the training and validation data by plotting some samples (as images)."
   ]
  },
  {
   "cell_type": "markdown",
   "metadata": {},
   "source": [
    "### Solution 1"
   ]
  },
  {
   "cell_type": "code",
   "execution_count": 14,
   "metadata": {},
   "outputs": [
    {
     "name": "stdout",
     "output_type": "stream",
     "text": [
      "torch.Size([100, 1, 28, 28])\n",
      "torch.Size([100, 1, 28, 28])\n"
     ]
    },
    {
     "data": {
      "image/png": "[encoded data removed]",
      "text/plain": [
       "<Figure size 432x288 with 6 Axes>"
      ]
     },
     "metadata": {},
     "output_type": "display_data"
    }
   ],
   "source": [
    "#input_size = 784\n",
    "#hidden_size = 500\n",
    "#num_classes = 10\n",
    "#num_epochs = 5\n",
    "batch_size = 100\n",
    "#learning_rate = 0.001\n",
    "\n",
    "# 1.\n",
    "train_dataset = torchvision.datasets.MNIST(root='../../data', train=True, transform=transforms.ToTensor(), download = True)\n",
    "val_dataset = torchvision.datasets.MNIST(root='../../data', train=False, transform=transforms.ToTensor())\n",
    "\n",
    "# 2.\n",
    "train_loader = torch.utils.data.DataLoader(dataset = train_dataset, batch_size = batch_size, shuffle=True)\n",
    "val_loader = torch.utils.data.DataLoader(dataset = val_dataset, batch_size = batch_size, shuffle=False)\n",
    "\n",
    "# 3. \n",
    "examples = enumerate(train_loader)\n",
    "batch_idx, (example_data, example_targets) = next(examples)\n",
    "print(example_data.shape)\n",
    "\n",
    "examples = enumerate(val_loader)\n",
    "batch_idx, (example_data, example_targets) = next(examples)\n",
    "print(example_data.shape)\n",
    "\n",
    "\n",
    "# 4.\n",
    "import matplotlib.pyplot as plt\n",
    "\n",
    "fig = plt.figure()\n",
    "for i in range(6):\n",
    "  plt.subplot(2,3,i+1)\n",
    "  plt.tight_layout()\n",
    "  plt.imshow(example_data[i][0], cmap='gray', interpolation='none')\n",
    "  plt.title(\"Ground Truth: {}\".format(example_targets[i]))\n",
    "  plt.xticks([])\n",
    "  plt.yticks([])\n",
    "fig.show()\n"
   ]
  },
  {
   "cell_type": "markdown",
   "metadata": {},
   "source": [
    "### Exercise 2: Training a model (3 points)\n",
    "Define a function `train_model` with input arguments `model`, `train_data`, `valid_data`, `optimizer`, `criterion`, and `n_epochs`, and output arguments `model`, `train_loss`, `valid_loss`, `train_accuracy`, `valid_accuracy`. We will use this function to train both a MLP as well as a CNN. It therefore has to be generic to any type of model, optimizer, or loss function. The function:\n",
    "1. Loops over `n_epoch` epochs.\n",
    "1. Loops over minibatches of both training data `train_data` as well as validation data `valid_data`.\n",
    "1. Trains the model using the loss function defined by `criterion` and optimizer `optimizer` using the training data.\n",
    "1. Computes and saves losses for both training and validation data per epoch in `train_loss` and `valid_loss`.\n",
    "1. Computes and saves accuracies for both training and validation data per epoch in `train_accuracy` and `valid_accuracy`."
   ]
  },
  {
   "cell_type": "markdown",
   "metadata": {},
   "source": [
    "### Solution 2"
   ]
  },
  {
   "cell_type": "code",
   "execution_count": 4,
   "metadata": {},
   "outputs": [],
   "source": [
    "def train_model(model, train_data, valid_data, optimizer, criterion, n_epochs):\n",
    "    \n",
    "    train_loss = np.zeros(n_epochs)\n",
    "    valid_loss = np.zeros(n_epochs)\n",
    "    train_accuracy = np.zeros(n_epochs)\n",
    "    valid_accuracy = np.zeros(n_epochs)\n",
    "    \n",
    "    for epoch in range (n_epochs):\n",
    "        \n",
    "        for i, (images, labels) in (train_data):\n",
    "            images = images.reshape(-1, 28*28).to(device)\n",
    "            labels = labels.to(device)\n",
    "            \n",
    "            outputs = model(images)\n",
    "            train_loss[epoch] = criterion(outputs, labels)\n",
    "            \n",
    "            train_accuracy[epoch] = (outputs == labels).sum()/images.size\n",
    "                        \n",
    "            optimizer.zero_grad()\n",
    "            train_loss.backward()\n",
    "            optimizer.step()\n",
    "        \n",
    "        for i, (images, labels) in (valid_data):\n",
    "            images = images.reshape(-1, 28*28).to(device)\n",
    "            labels = labels.to(device)\n",
    "            \n",
    "            outputs = model(images)\n",
    "            valid_loss[epoch] = criterion(outputs, labels)\n",
    "            \n",
    "            valid_accuracy[epoch] = (outputs == labels).sum()/images.size\n",
    "            \n",
    "            optimizer.zero_grad()\n",
    "            valid_loss.backward()\n",
    "            optimizer.step()\n",
    "            \n",
    "            \n",
    "    return model, train_loss, valid_loss, train_accuracy, valid_accuracy      \n",
    "    \n",
    "            "
   ]
  },
  {
   "cell_type": "markdown",
   "metadata": {},
   "source": [
    "### Exercise 3: Setup an MLP (1 point)\n",
    "As a first model, setup a multilayer perceptron:\n",
    "1. with two linear (i.e., fully connected) weight layers\n",
    "1. with a hidden layer of 16 ReLU units"
   ]
  },
  {
   "cell_type": "markdown",
   "metadata": {},
   "source": [
    "### Solution 3"
   ]
  },
  {
   "cell_type": "code",
   "execution_count": null,
   "metadata": {},
   "outputs": [],
   "source": [
    "## Code here ##"
   ]
  },
  {
   "cell_type": "markdown",
   "metadata": {},
   "source": [
    "### Exercise 4: Train the MLP (1 point) \n",
    "Train the MLP using the MNIST dataset:\n",
    "1. As optimizer use SGD with a learning rate of 0.001 and momentum of 0.9.\n",
    "1. As loss function use the cross-entropy loss.\n",
    "1. Train the MLP in 20 epochs.\n",
    "1. Plot the training and validation losses as a function of epochs.\n",
    "1. Plot the training and validation accuracies as a function of epochs."
   ]
  },
  {
   "cell_type": "markdown",
   "metadata": {},
   "source": [
    "### Solution 4"
   ]
  },
  {
   "cell_type": "code",
   "execution_count": null,
   "metadata": {},
   "outputs": [],
   "source": [
    "## Code here ##"
   ]
  },
  {
   "cell_type": "markdown",
   "metadata": {},
   "source": [
    "### Exercise 5: Visualize the weights (0.5 points)\n",
    "The model's weights in a particular layer that the MLP has learned can be found in `model_name.layer_name.weight.data`. Plot the weights of the 16 ReLU units as 2D images."
   ]
  },
  {
   "cell_type": "markdown",
   "metadata": {},
   "source": [
    "### Solution 5"
   ]
  },
  {
   "cell_type": "code",
   "execution_count": null,
   "metadata": {},
   "outputs": [],
   "source": [
    "## Code here ##"
   ]
  },
  {
   "cell_type": "markdown",
   "metadata": {},
   "source": [
    "### Exercise 6: Convolution with hand-made kernels (1 point)\n",
    "In convolutional neural networks we use a mathematical operator between two functions $f$ and $g$ called [*convolution*](https://en.wikipedia.org/wiki/Convolution). In terms of images, one could intuitively think of $f$ as an image, and $g$ as a filter kernel (i.e., a receptive field). For images we need to use 2D convolution: \n",
    "\n",
    "$$f(x, y) \\ast g(x, y) = \\sum^N_{i=-N}\\sum^N_{j=-N} f(x, y)g(x-i, y-j)$$\n",
    "\n",
    "Intuitively, the kernel $g$ is applied on all spatial locations of $f$. You could think of $g$ as having weights that represent how it singles out local input. Usually there are various of these filter kernels $g$, scanning the image for many possible features. \n",
    "\n",
    "In this exercise you will perform a simple convolution on one image.\n",
    "1. Make four $3 \\times 3$ kernels. They should represent horizontal, vertical, and the two diagonal line feature detectors.\n",
    "1. Plot these kernels.\n",
    "1. Apply the kernels to the image, e.g. by using `convolved2d` from `scipy`.\n",
    "1. Plot the resulting feature activity map for each of the kernels. "
   ]
  },
  {
   "cell_type": "markdown",
   "metadata": {},
   "source": [
    "### Solution 6"
   ]
  },
  {
   "cell_type": "code",
   "execution_count": null,
   "metadata": {},
   "outputs": [],
   "source": [
    "# The image\n",
    "image = train[2][0].reshape((28, 28))\n",
    "fig, ax = plt.subplots(1, 1, figsize=(4, 4))\n",
    "ax.imshow(image, cmap=\"gray\")\n",
    "ax.set_xticks([], []) ; ax.set_yticks([], [])\n",
    "\n",
    "# 1. Create kernels\n",
    "kernel_template = [ [-1.0, -1.0, -1.0], \n",
    "                    [-1.0,  2.0, -1.0], \n",
    "                    [-1.0, -1.0, -1.0] ]   # example: point detector\n",
    "## Code here ##\n",
    "\n",
    "# 2. Plot kernels\n",
    "## Code here ##\n",
    "\n",
    "# 3. Convolve the image with the kernels\n",
    "## Code here ##\n",
    "\n",
    "# 4. Plot the activity maps\n",
    "## Code here ##\n"
   ]
  },
  {
   "cell_type": "markdown",
   "metadata": {
    "collapsed": true
   },
   "source": [
    "### Exercise 7: Setup a CNN (1 points)\n",
    "As a second model, setup a CNN with:\n",
    "1. One convolutional layer and one linear (i.e., fully connected) weight layer.\n",
    "1. In the convolutional layer, use $8$ kernels of size $3\\times3$ and stride $1$.\n",
    "1. ReLU units in the hidden layer.\n",
    "1. Max pooling with kernels of size $2\\times2$ and stride $2$."
   ]
  },
  {
   "cell_type": "markdown",
   "metadata": {},
   "source": [
    "### Solution 7"
   ]
  },
  {
   "cell_type": "code",
   "execution_count": null,
   "metadata": {},
   "outputs": [],
   "source": [
    "## Code here ##"
   ]
  },
  {
   "cell_type": "markdown",
   "metadata": {},
   "source": [
    "### Exercise 8: Train the CNN (1 point) \n",
    "Train the CNN using the MNIST dataset:\n",
    "1. As optimizer use SGD with a learning rate of 0.001 and momentum of 0.9.\n",
    "1. As loss function use the cross-entropy loss.\n",
    "1. Train the CNN in 20 epochs.\n",
    "1. Plot the training and validation losses as a function of epochs.\n",
    "1. Plot the training and validation accuracies as a function of epochs."
   ]
  },
  {
   "cell_type": "markdown",
   "metadata": {},
   "source": [
    "### Solution 8"
   ]
  },
  {
   "cell_type": "code",
   "execution_count": null,
   "metadata": {},
   "outputs": [],
   "source": [
    "## Code here ##"
   ]
  },
  {
   "cell_type": "markdown",
   "metadata": {},
   "source": [
    "### Exercise 9: Visualize the weights (0.5 points)\n",
    "The model's weights in the convolutional layer that the CNN has learned can be found in `model_name.layer_name.weight.data`. Plot the kernels as images.\n",
    "\n",
    "Showing what the first weight layer learns is easy. But this task becomes more difficult in higher layers, and is a current area of research. Here is highly recommended reading on what convolutional neural networks learn: \n",
    "\n",
    "[Feature visualization: How neural networks build up their understanding of images](https://distill.pub/2017/feature-visualization/)\n",
    "\n",
    "[The building blocks of interpretability](https://distill.pub/2018/building-blocks/)"
   ]
  },
  {
   "cell_type": "markdown",
   "metadata": {},
   "source": [
    "### Solution 9"
   ]
  },
  {
   "cell_type": "code",
   "execution_count": null,
   "metadata": {},
   "outputs": [],
   "source": [
    "## Code here ##"
   ]
  },
  {
   "cell_type": "markdown",
   "metadata": {},
   "source": [
    "### Exercise 10: Interpretation (2 points)\n",
    "1. Which of the two models performed better for classifying MNIST digits in this example? Compare speed of training and test set accuracy. \n",
    "1. The main difference of the models is the type of the first layer. Why would a convolutional layer lead to the better succes here? \n",
    "1. Explain one argument why the convolution operation is biologically plausible and one argument why it is biologically implausible. "
   ]
  },
  {
   "cell_type": "markdown",
   "metadata": {
    "collapsed": true
   },
   "source": [
    "### Solution 10\n",
    "1. Answer here.\n",
    "1. Answer here.\n",
    "1. Answer here."
   ]
  },
  {
   "cell_type": "code",
   "execution_count": null,
   "metadata": {},
   "outputs": [],
   "source": []
  }
 ],
 "metadata": {
  "anaconda-cloud": {},
  "kernelspec": {
   "display_name": "Python 3",
   "language": "python",
   "name": "python3"
  },
  "language_info": {
   "codemirror_mode": {
    "name": "ipython",
    "version": 3
   },
   "file_extension": ".py",
   "mimetype": "text/x-python",
   "name": "python",
   "nbconvert_exporter": "python",
   "pygments_lexer": "ipython3",
   "version": "3.8.1"
  }
 },
 "nbformat": 4,
 "nbformat_minor": 1
}
